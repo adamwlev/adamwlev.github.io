{
 "cells": [
  {
   "cell_type": "markdown",
   "metadata": {},
   "source": [
    "As promised in [this](https://adamwlev.github.io/Can-you-predict-congressional-elections-using-Tweets/) post, I am back to predict all of the midterm elections from 2016 using the tweets from the month leading up to the election and a model trained on the races from the 2014 midterms."
   ]
  },
  {
   "cell_type": "markdown",
   "metadata": {},
   "source": [
    "Refresher: I used a [script](https://github.com/adamwlev/adamwlev.github.io/blob/master/scripts/election-twitter/get-tweets.py) that queries the twitter advanced search feature for all the tweets that contain each candidates full name. I saved all such tweets that were written in the month leading up to the 2014 midterm elections and now for the month leading up to the 2016 midterm elections.\n",
    "\n",
    "Now, I will build the same model that I built in the previous post except this time I will train on the 2014 races and evaluate on the 2016 races. Let's see how the model performs!"
   ]
  },
  {
   "cell_type": "code",
   "execution_count": 1,
   "metadata": {
    "collapsed": true
   },
   "outputs": [],
   "source": [
    "import pandas as pd\n",
    "import numpy as np\n",
    "import json\n",
    "import codecs\n",
    "import warnings\n",
    "import matplotlib.pyplot as plt\n",
    "%matplotlib inline"
   ]
  },
  {
   "cell_type": "code",
   "execution_count": 2,
   "metadata": {
    "collapsed": true
   },
   "outputs": [],
   "source": [
    "race_metadata = pd.read_csv('~/election-twitter/elections-twitter/data/race-metadata.csv')\n",
    "race_metadata_2016 = pd.read_csv('~/election-twitter/elections-twitter/data/race-metadata-2016.csv')"
   ]
  },
  {
   "cell_type": "code",
   "execution_count": 3,
   "metadata": {},
   "outputs": [
    {
     "data": {
      "text/html": [
       "<div>\n",
       "<style scoped>\n",
       "    .dataframe tbody tr th:only-of-type {\n",
       "        vertical-align: middle;\n",
       "    }\n",
       "\n",
       "    .dataframe tbody tr th {\n",
       "        vertical-align: top;\n",
       "    }\n",
       "\n",
       "    .dataframe thead th {\n",
       "        text-align: right;\n",
       "    }\n",
       "</style>\n",
       "<table border=\"1\" class=\"dataframe\">\n",
       "  <thead>\n",
       "    <tr style=\"text-align: right;\">\n",
       "      <th></th>\n",
       "      <th>Race</th>\n",
       "      <th>Result</th>\n",
       "      <th>Chamber</th>\n",
       "    </tr>\n",
       "  </thead>\n",
       "  <tbody>\n",
       "    <tr>\n",
       "      <th>0</th>\n",
       "      <td>Alabama 1</td>\n",
       "      <td>[[\"Bradley Byrne\", \"Republican\", 68.2], [\"Burt...</td>\n",
       "      <td>House</td>\n",
       "    </tr>\n",
       "    <tr>\n",
       "      <th>1</th>\n",
       "      <td>Alabama 2</td>\n",
       "      <td>[[\"Martha Roby\", \"Republican\", 67.3], [\"Erick ...</td>\n",
       "      <td>House</td>\n",
       "    </tr>\n",
       "    <tr>\n",
       "      <th>2</th>\n",
       "      <td>Alabama 3</td>\n",
       "      <td>[[\"Mike Rogers\", \"Republican\", 66.1], [\"Jesse ...</td>\n",
       "      <td>House</td>\n",
       "    </tr>\n",
       "    <tr>\n",
       "      <th>3</th>\n",
       "      <td>Alabama 5</td>\n",
       "      <td>[[\"Mo Brooks\", \"Republican\", 74.4], [\"Mark Bra...</td>\n",
       "      <td>House</td>\n",
       "    </tr>\n",
       "    <tr>\n",
       "      <th>4</th>\n",
       "      <td>Alabama 6</td>\n",
       "      <td>[[\"Gary Palmer\", \"Republican\", 76.2], [\"Mark L...</td>\n",
       "      <td>House</td>\n",
       "    </tr>\n",
       "  </tbody>\n",
       "</table>\n",
       "</div>"
      ],
      "text/plain": [
       "        Race                                             Result Chamber\n",
       "0  Alabama 1  [[\"Bradley Byrne\", \"Republican\", 68.2], [\"Burt...   House\n",
       "1  Alabama 2  [[\"Martha Roby\", \"Republican\", 67.3], [\"Erick ...   House\n",
       "2  Alabama 3  [[\"Mike Rogers\", \"Republican\", 66.1], [\"Jesse ...   House\n",
       "3  Alabama 5  [[\"Mo Brooks\", \"Republican\", 74.4], [\"Mark Bra...   House\n",
       "4  Alabama 6  [[\"Gary Palmer\", \"Republican\", 76.2], [\"Mark L...   House"
      ]
     },
     "execution_count": 3,
     "metadata": {},
     "output_type": "execute_result"
    }
   ],
   "source": [
    "race_metadata.head()"
   ]
  },
  {
   "cell_type": "code",
   "execution_count": 4,
   "metadata": {},
   "outputs": [
    {
     "data": {
      "text/html": [
       "<div>\n",
       "<style scoped>\n",
       "    .dataframe tbody tr th:only-of-type {\n",
       "        vertical-align: middle;\n",
       "    }\n",
       "\n",
       "    .dataframe tbody tr th {\n",
       "        vertical-align: top;\n",
       "    }\n",
       "\n",
       "    .dataframe thead th {\n",
       "        text-align: right;\n",
       "    }\n",
       "</style>\n",
       "<table border=\"1\" class=\"dataframe\">\n",
       "  <thead>\n",
       "    <tr style=\"text-align: right;\">\n",
       "      <th></th>\n",
       "      <th>Race</th>\n",
       "      <th>Result</th>\n",
       "      <th>Chamber</th>\n",
       "    </tr>\n",
       "  </thead>\n",
       "  <tbody>\n",
       "    <tr>\n",
       "      <th>0</th>\n",
       "      <td>Alaska at-large</td>\n",
       "      <td>[[\"Don Young\", \"Republican\", 50.3], [\"Steve Li...</td>\n",
       "      <td>House</td>\n",
       "    </tr>\n",
       "    <tr>\n",
       "      <th>1</th>\n",
       "      <td>Arizona 1</td>\n",
       "      <td>[[\"Tom O'Halleran\", \"Democratic\", 50.7], [\"Pau...</td>\n",
       "      <td>House</td>\n",
       "    </tr>\n",
       "    <tr>\n",
       "      <th>2</th>\n",
       "      <td>Arizona 7</td>\n",
       "      <td>[[\"Ruben Gallego\", \"Democratic\", 75.2], [\"Eve ...</td>\n",
       "      <td>House</td>\n",
       "    </tr>\n",
       "    <tr>\n",
       "      <th>3</th>\n",
       "      <td>Arizona 8</td>\n",
       "      <td>[[\"Trent Franks\", \"Republican\", 68.5], [\"Mark ...</td>\n",
       "      <td>House</td>\n",
       "    </tr>\n",
       "    <tr>\n",
       "      <th>4</th>\n",
       "      <td>Colorado 1</td>\n",
       "      <td>[[\"Diana DeGette\", \"Democratic\", 67.9], [\"Casp...</td>\n",
       "      <td>House</td>\n",
       "    </tr>\n",
       "  </tbody>\n",
       "</table>\n",
       "</div>"
      ],
      "text/plain": [
       "              Race                                             Result Chamber\n",
       "0  Alaska at-large  [[\"Don Young\", \"Republican\", 50.3], [\"Steve Li...   House\n",
       "1        Arizona 1  [[\"Tom O'Halleran\", \"Democratic\", 50.7], [\"Pau...   House\n",
       "2        Arizona 7  [[\"Ruben Gallego\", \"Democratic\", 75.2], [\"Eve ...   House\n",
       "3        Arizona 8  [[\"Trent Franks\", \"Republican\", 68.5], [\"Mark ...   House\n",
       "4       Colorado 1  [[\"Diana DeGette\", \"Democratic\", 67.9], [\"Casp...   House"
      ]
     },
     "execution_count": 4,
     "metadata": {},
     "output_type": "execute_result"
    }
   ],
   "source": [
    "race_metadata_2016.head()"
   ]
  },
  {
   "cell_type": "code",
   "execution_count": 5,
   "metadata": {},
   "outputs": [
    {
     "data": {
      "text/plain": [
       "(441, 177)"
      ]
     },
     "execution_count": 5,
     "metadata": {},
     "output_type": "execute_result"
    }
   ],
   "source": [
    "## How many races in the train and test sets?\n",
    "race_metadata.shape[0], race_metadata_2016.shape[0]"
   ]
  },
  {
   "cell_type": "code",
   "execution_count": 6,
   "metadata": {
    "collapsed": true
   },
   "outputs": [],
   "source": [
    "## put a column in that grabs the winner out\n",
    "race_metadata['winner'] = race_metadata.Result.apply(lambda x: json.loads(x)[0][0])\n",
    "race_metadata_2016['winner'] = race_metadata_2016.Result.apply(lambda x: json.loads(x)[0][0])"
   ]
  },
  {
   "cell_type": "code",
   "execution_count": 7,
   "metadata": {},
   "outputs": [
    {
     "data": {
      "text/html": [
       "<div>\n",
       "<style scoped>\n",
       "    .dataframe tbody tr th:only-of-type {\n",
       "        vertical-align: middle;\n",
       "    }\n",
       "\n",
       "    .dataframe tbody tr th {\n",
       "        vertical-align: top;\n",
       "    }\n",
       "\n",
       "    .dataframe thead th {\n",
       "        text-align: right;\n",
       "    }\n",
       "</style>\n",
       "<table border=\"1\" class=\"dataframe\">\n",
       "  <thead>\n",
       "    <tr style=\"text-align: right;\">\n",
       "      <th></th>\n",
       "      <th>Race</th>\n",
       "      <th>Result</th>\n",
       "      <th>Chamber</th>\n",
       "      <th>winner</th>\n",
       "    </tr>\n",
       "  </thead>\n",
       "  <tbody>\n",
       "    <tr>\n",
       "      <th>0</th>\n",
       "      <td>Alabama 1</td>\n",
       "      <td>[[\"Bradley Byrne\", \"Republican\", 68.2], [\"Burt...</td>\n",
       "      <td>House</td>\n",
       "      <td>Bradley Byrne</td>\n",
       "    </tr>\n",
       "    <tr>\n",
       "      <th>1</th>\n",
       "      <td>Alabama 2</td>\n",
       "      <td>[[\"Martha Roby\", \"Republican\", 67.3], [\"Erick ...</td>\n",
       "      <td>House</td>\n",
       "      <td>Martha Roby</td>\n",
       "    </tr>\n",
       "    <tr>\n",
       "      <th>2</th>\n",
       "      <td>Alabama 3</td>\n",
       "      <td>[[\"Mike Rogers\", \"Republican\", 66.1], [\"Jesse ...</td>\n",
       "      <td>House</td>\n",
       "      <td>Mike Rogers</td>\n",
       "    </tr>\n",
       "    <tr>\n",
       "      <th>3</th>\n",
       "      <td>Alabama 5</td>\n",
       "      <td>[[\"Mo Brooks\", \"Republican\", 74.4], [\"Mark Bra...</td>\n",
       "      <td>House</td>\n",
       "      <td>Mo Brooks</td>\n",
       "    </tr>\n",
       "    <tr>\n",
       "      <th>4</th>\n",
       "      <td>Alabama 6</td>\n",
       "      <td>[[\"Gary Palmer\", \"Republican\", 76.2], [\"Mark L...</td>\n",
       "      <td>House</td>\n",
       "      <td>Gary Palmer</td>\n",
       "    </tr>\n",
       "  </tbody>\n",
       "</table>\n",
       "</div>"
      ],
      "text/plain": [
       "        Race                                             Result Chamber  \\\n",
       "0  Alabama 1  [[\"Bradley Byrne\", \"Republican\", 68.2], [\"Burt...   House   \n",
       "1  Alabama 2  [[\"Martha Roby\", \"Republican\", 67.3], [\"Erick ...   House   \n",
       "2  Alabama 3  [[\"Mike Rogers\", \"Republican\", 66.1], [\"Jesse ...   House   \n",
       "3  Alabama 5  [[\"Mo Brooks\", \"Republican\", 74.4], [\"Mark Bra...   House   \n",
       "4  Alabama 6  [[\"Gary Palmer\", \"Republican\", 76.2], [\"Mark L...   House   \n",
       "\n",
       "          winner  \n",
       "0  Bradley Byrne  \n",
       "1    Martha Roby  \n",
       "2    Mike Rogers  \n",
       "3      Mo Brooks  \n",
       "4    Gary Palmer  "
      ]
     },
     "execution_count": 7,
     "metadata": {},
     "output_type": "execute_result"
    }
   ],
   "source": [
    "race_metadata.head()"
   ]
  },
  {
   "cell_type": "code",
   "execution_count": 8,
   "metadata": {},
   "outputs": [
    {
     "data": {
      "text/html": [
       "<div>\n",
       "<style scoped>\n",
       "    .dataframe tbody tr th:only-of-type {\n",
       "        vertical-align: middle;\n",
       "    }\n",
       "\n",
       "    .dataframe tbody tr th {\n",
       "        vertical-align: top;\n",
       "    }\n",
       "\n",
       "    .dataframe thead th {\n",
       "        text-align: right;\n",
       "    }\n",
       "</style>\n",
       "<table border=\"1\" class=\"dataframe\">\n",
       "  <thead>\n",
       "    <tr style=\"text-align: right;\">\n",
       "      <th></th>\n",
       "      <th>Race</th>\n",
       "      <th>Result</th>\n",
       "      <th>Chamber</th>\n",
       "      <th>winner</th>\n",
       "    </tr>\n",
       "  </thead>\n",
       "  <tbody>\n",
       "    <tr>\n",
       "      <th>0</th>\n",
       "      <td>Alaska at-large</td>\n",
       "      <td>[[\"Don Young\", \"Republican\", 50.3], [\"Steve Li...</td>\n",
       "      <td>House</td>\n",
       "      <td>Don Young</td>\n",
       "    </tr>\n",
       "    <tr>\n",
       "      <th>1</th>\n",
       "      <td>Arizona 1</td>\n",
       "      <td>[[\"Tom O'Halleran\", \"Democratic\", 50.7], [\"Pau...</td>\n",
       "      <td>House</td>\n",
       "      <td>Tom O'Halleran</td>\n",
       "    </tr>\n",
       "    <tr>\n",
       "      <th>2</th>\n",
       "      <td>Arizona 7</td>\n",
       "      <td>[[\"Ruben Gallego\", \"Democratic\", 75.2], [\"Eve ...</td>\n",
       "      <td>House</td>\n",
       "      <td>Ruben Gallego</td>\n",
       "    </tr>\n",
       "    <tr>\n",
       "      <th>3</th>\n",
       "      <td>Arizona 8</td>\n",
       "      <td>[[\"Trent Franks\", \"Republican\", 68.5], [\"Mark ...</td>\n",
       "      <td>House</td>\n",
       "      <td>Trent Franks</td>\n",
       "    </tr>\n",
       "    <tr>\n",
       "      <th>4</th>\n",
       "      <td>Colorado 1</td>\n",
       "      <td>[[\"Diana DeGette\", \"Democratic\", 67.9], [\"Casp...</td>\n",
       "      <td>House</td>\n",
       "      <td>Diana DeGette</td>\n",
       "    </tr>\n",
       "  </tbody>\n",
       "</table>\n",
       "</div>"
      ],
      "text/plain": [
       "              Race                                             Result Chamber  \\\n",
       "0  Alaska at-large  [[\"Don Young\", \"Republican\", 50.3], [\"Steve Li...   House   \n",
       "1        Arizona 1  [[\"Tom O'Halleran\", \"Democratic\", 50.7], [\"Pau...   House   \n",
       "2        Arizona 7  [[\"Ruben Gallego\", \"Democratic\", 75.2], [\"Eve ...   House   \n",
       "3        Arizona 8  [[\"Trent Franks\", \"Republican\", 68.5], [\"Mark ...   House   \n",
       "4       Colorado 1  [[\"Diana DeGette\", \"Democratic\", 67.9], [\"Casp...   House   \n",
       "\n",
       "           winner  \n",
       "0       Don Young  \n",
       "1  Tom O'Halleran  \n",
       "2   Ruben Gallego  \n",
       "3    Trent Franks  \n",
       "4   Diana DeGette  "
      ]
     },
     "execution_count": 8,
     "metadata": {},
     "output_type": "execute_result"
    }
   ],
   "source": [
    "race_metadata_2016.head()"
   ]
  },
  {
   "cell_type": "code",
   "execution_count": 9,
   "metadata": {},
   "outputs": [
    {
     "data": {
      "text/plain": [
       "count    441.000000\n",
       "mean       2.725624\n",
       "std        1.101446\n",
       "min        2.000000\n",
       "25%        2.000000\n",
       "50%        2.000000\n",
       "75%        3.000000\n",
       "max       12.000000\n",
       "Name: Result, dtype: float64"
      ]
     },
     "execution_count": 9,
     "metadata": {},
     "output_type": "execute_result"
    }
   ],
   "source": [
    "## how many candidates in each race in the train set?\n",
    "race_metadata.Result.apply(lambda x: len(json.loads(x))).describe()"
   ]
  },
  {
   "cell_type": "code",
   "execution_count": 10,
   "metadata": {},
   "outputs": [
    {
     "data": {
      "text/plain": [
       "count    177.00000\n",
       "mean       3.59887\n",
       "std        1.24435\n",
       "min        3.00000\n",
       "25%        3.00000\n",
       "50%        3.00000\n",
       "75%        4.00000\n",
       "max       12.00000\n",
       "Name: Result, dtype: float64"
      ]
     },
     "execution_count": 10,
     "metadata": {},
     "output_type": "execute_result"
    }
   ],
   "source": [
    "## how many candidates in each race in the test set?\n",
    "race_metadata_2016.Result.apply(lambda x: len(json.loads(x))).describe()"
   ]
  },
  {
   "cell_type": "markdown",
   "metadata": {},
   "source": [
    "The below is the same code as last post with a couple modifications:\n",
    "\n",
    "* the 2016 tweets are in a different directory so I added an argument to the function that modifies the path for the year.\n",
    "* The 2016 race metadata has some data quality issues which I didn't notice until now - some of the candidate names are not actual people but really '–' or 'Write-Ins'. I am filtering these out since there are not helpful for our goal of predicting who will win a race."
   ]
  },
  {
   "cell_type": "code",
   "execution_count": 11,
   "metadata": {
    "collapsed": true
   },
   "outputs": [],
   "source": [
    "def make_ascii(s):\n",
    "    return s.encode('ascii','ignore').decode('ascii')\n",
    "\n",
    "def make_df(race_metadata,year=2014):\n",
    "    values = []\n",
    "    path = '/Users/adamwlevin/election-twitter/elections-twitter/data/tweets'\n",
    "    if year==2016:\n",
    "        path += '/t2016'\n",
    "    for row_ind, row in race_metadata.iterrows():\n",
    "        try:\n",
    "            with codecs.open('%s/%s.json' % (path,make_ascii(row.Race).replace(' ',''),),'r','utf-8-sig') as f:\n",
    "                tweets = json.load(f)\n",
    "        except FileNotFoundError:\n",
    "            print('Did not find %s ' % (row.Race,))\n",
    "            continue\n",
    "        for candidate,data in tweets.items():\n",
    "            if candidate in ('–','Blank/Void/Scattering','Write-Ins','Others'):\n",
    "                continue\n",
    "            record = [[]]*4\n",
    "            for date,data_ in data.items():\n",
    "                if data_ and data_!='Made 5 attempts, all unsucessful.':\n",
    "                    data_ = np.array(data_)\n",
    "                    for i in range(4):\n",
    "                        record[i] = \\\n",
    "                        np.concatenate([record[i],data_[:,i].astype(int) if i!=0 else data_[:,i]])\n",
    "            values.append([candidate]+record+[1 if candidate==row.winner else 0,row_ind])\n",
    "    return pd.DataFrame(values,columns=['candidate','tweets','replies',\n",
    "                                        'retweets','favorites',\n",
    "                                        'winner','race_index'])"
   ]
  },
  {
   "cell_type": "code",
   "execution_count": 12,
   "metadata": {},
   "outputs": [
    {
     "name": "stdout",
     "output_type": "stream",
     "text": [
      "Did not find Alaska \n",
      "Did not find Arkansas \n"
     ]
    }
   ],
   "source": [
    "## make the train set and test set\n",
    "df_train = make_df(race_metadata)\n",
    "df_test = make_df(race_metadata_2016,year=2016)"
   ]
  },
  {
   "cell_type": "code",
   "execution_count": 13,
   "metadata": {},
   "outputs": [
    {
     "data": {
      "text/html": [
       "<div>\n",
       "<style scoped>\n",
       "    .dataframe tbody tr th:only-of-type {\n",
       "        vertical-align: middle;\n",
       "    }\n",
       "\n",
       "    .dataframe tbody tr th {\n",
       "        vertical-align: top;\n",
       "    }\n",
       "\n",
       "    .dataframe thead th {\n",
       "        text-align: right;\n",
       "    }\n",
       "</style>\n",
       "<table border=\"1\" class=\"dataframe\">\n",
       "  <thead>\n",
       "    <tr style=\"text-align: right;\">\n",
       "      <th></th>\n",
       "      <th>candidate</th>\n",
       "      <th>tweets</th>\n",
       "      <th>replies</th>\n",
       "      <th>retweets</th>\n",
       "      <th>favorites</th>\n",
       "      <th>winner</th>\n",
       "      <th>race_index</th>\n",
       "    </tr>\n",
       "  </thead>\n",
       "  <tbody>\n",
       "    <tr>\n",
       "      <th>0</th>\n",
       "      <td>Bradley Byrne</td>\n",
       "      <td>[\\nThings to do Tuesday:\\n-VOTE; remind friend...</td>\n",
       "      <td>[0.0, 0.0, 0.0, 0.0, 0.0, 0.0, 0.0, 0.0, 0.0, ...</td>\n",
       "      <td>[0.0, 3.0, 0.0, 0.0, 0.0, 7.0, 0.0, 0.0, 0.0, ...</td>\n",
       "      <td>[0.0, 2.0, 0.0, 0.0, 0.0, 0.0, 1.0, 0.0, 0.0, ...</td>\n",
       "      <td>1</td>\n",
       "      <td>0</td>\n",
       "    </tr>\n",
       "    <tr>\n",
       "      <th>1</th>\n",
       "      <td>Burton LeFlore</td>\n",
       "      <td>[\\nWATCH: http://ln.is/youtu.be/jvTA8    ELECT...</td>\n",
       "      <td>[0.0, 0.0, 0.0, 0.0, 0.0, 2.0, 0.0, 0.0, 0.0, ...</td>\n",
       "      <td>[0.0, 7.0, 0.0, 0.0, 0.0, 1.0, 0.0, 0.0, 0.0, ...</td>\n",
       "      <td>[0.0, 0.0, 0.0, 1.0, 0.0, 1.0, 0.0, 0.0, 0.0, ...</td>\n",
       "      <td>0</td>\n",
       "      <td>0</td>\n",
       "    </tr>\n",
       "    <tr>\n",
       "      <th>2</th>\n",
       "      <td>Martha Roby</td>\n",
       "      <td>[\\nGlad to see and hear Martha Roby at Rotary ...</td>\n",
       "      <td>[0.0, 0.0, 0.0, 0.0, 0.0, 0.0, 0.0, 0.0, 0.0, ...</td>\n",
       "      <td>[0.0, 0.0, 0.0, 17.0, 0.0, 0.0, 0.0, 0.0, 0.0,...</td>\n",
       "      <td>[0.0, 1.0, 0.0, 1.0, 0.0, 0.0, 0.0, 0.0, 1.0, ...</td>\n",
       "      <td>1</td>\n",
       "      <td>1</td>\n",
       "    </tr>\n",
       "    <tr>\n",
       "      <th>3</th>\n",
       "      <td>Erick Wright</td>\n",
       "      <td>[\\nBetter Vote Erick Wright, Jennifer S. Marsd...</td>\n",
       "      <td>[0.0, 0.0, 0.0, 0.0, 0.0, 0.0, 0.0, 0.0, 0.0, ...</td>\n",
       "      <td>[0.0, 0.0, 0.0, 0.0, 17.0, 0.0, 0.0, 0.0, 0.0,...</td>\n",
       "      <td>[0.0, 0.0, 0.0, 0.0, 1.0, 0.0, 0.0, 0.0, 0.0, ...</td>\n",
       "      <td>0</td>\n",
       "      <td>1</td>\n",
       "    </tr>\n",
       "    <tr>\n",
       "      <th>4</th>\n",
       "      <td>Mike Rogers</td>\n",
       "      <td>[\\nNSA Director Mike Rogers will begin his add...</td>\n",
       "      <td>[0.0, 0.0, 0.0, 0.0, 0.0, 1.0, 0.0, 0.0, 0.0, ...</td>\n",
       "      <td>[1.0, 0.0, 7.0, 0.0, 2.0, 1.0, 0.0, 2.0, 2.0, ...</td>\n",
       "      <td>[0.0, 0.0, 1.0, 5.0, 1.0, 1.0, 0.0, 0.0, 1.0, ...</td>\n",
       "      <td>1</td>\n",
       "      <td>2</td>\n",
       "    </tr>\n",
       "  </tbody>\n",
       "</table>\n",
       "</div>"
      ],
      "text/plain": [
       "        candidate                                             tweets  \\\n",
       "0   Bradley Byrne  [\\nThings to do Tuesday:\\n-VOTE; remind friend...   \n",
       "1  Burton LeFlore  [\\nWATCH: http://ln.is/youtu.be/jvTA8    ELECT...   \n",
       "2     Martha Roby  [\\nGlad to see and hear Martha Roby at Rotary ...   \n",
       "3    Erick Wright  [\\nBetter Vote Erick Wright, Jennifer S. Marsd...   \n",
       "4     Mike Rogers  [\\nNSA Director Mike Rogers will begin his add...   \n",
       "\n",
       "                                             replies  \\\n",
       "0  [0.0, 0.0, 0.0, 0.0, 0.0, 0.0, 0.0, 0.0, 0.0, ...   \n",
       "1  [0.0, 0.0, 0.0, 0.0, 0.0, 2.0, 0.0, 0.0, 0.0, ...   \n",
       "2  [0.0, 0.0, 0.0, 0.0, 0.0, 0.0, 0.0, 0.0, 0.0, ...   \n",
       "3  [0.0, 0.0, 0.0, 0.0, 0.0, 0.0, 0.0, 0.0, 0.0, ...   \n",
       "4  [0.0, 0.0, 0.0, 0.0, 0.0, 1.0, 0.0, 0.0, 0.0, ...   \n",
       "\n",
       "                                            retweets  \\\n",
       "0  [0.0, 3.0, 0.0, 0.0, 0.0, 7.0, 0.0, 0.0, 0.0, ...   \n",
       "1  [0.0, 7.0, 0.0, 0.0, 0.0, 1.0, 0.0, 0.0, 0.0, ...   \n",
       "2  [0.0, 0.0, 0.0, 17.0, 0.0, 0.0, 0.0, 0.0, 0.0,...   \n",
       "3  [0.0, 0.0, 0.0, 0.0, 17.0, 0.0, 0.0, 0.0, 0.0,...   \n",
       "4  [1.0, 0.0, 7.0, 0.0, 2.0, 1.0, 0.0, 2.0, 2.0, ...   \n",
       "\n",
       "                                           favorites  winner  race_index  \n",
       "0  [0.0, 2.0, 0.0, 0.0, 0.0, 0.0, 1.0, 0.0, 0.0, ...       1           0  \n",
       "1  [0.0, 0.0, 0.0, 1.0, 0.0, 1.0, 0.0, 0.0, 0.0, ...       0           0  \n",
       "2  [0.0, 1.0, 0.0, 1.0, 0.0, 0.0, 0.0, 0.0, 1.0, ...       1           1  \n",
       "3  [0.0, 0.0, 0.0, 0.0, 1.0, 0.0, 0.0, 0.0, 0.0, ...       0           1  \n",
       "4  [0.0, 0.0, 1.0, 5.0, 1.0, 1.0, 0.0, 0.0, 1.0, ...       1           2  "
      ]
     },
     "execution_count": 13,
     "metadata": {},
     "output_type": "execute_result"
    }
   ],
   "source": [
    "## take a look at the result\n",
    "df_train.head()"
   ]
  },
  {
   "cell_type": "code",
   "execution_count": 14,
   "metadata": {},
   "outputs": [
    {
     "data": {
      "text/html": [
       "<div>\n",
       "<style scoped>\n",
       "    .dataframe tbody tr th:only-of-type {\n",
       "        vertical-align: middle;\n",
       "    }\n",
       "\n",
       "    .dataframe tbody tr th {\n",
       "        vertical-align: top;\n",
       "    }\n",
       "\n",
       "    .dataframe thead th {\n",
       "        text-align: right;\n",
       "    }\n",
       "</style>\n",
       "<table border=\"1\" class=\"dataframe\">\n",
       "  <thead>\n",
       "    <tr style=\"text-align: right;\">\n",
       "      <th></th>\n",
       "      <th>candidate</th>\n",
       "      <th>tweets</th>\n",
       "      <th>replies</th>\n",
       "      <th>retweets</th>\n",
       "      <th>favorites</th>\n",
       "      <th>winner</th>\n",
       "      <th>race_index</th>\n",
       "    </tr>\n",
       "  </thead>\n",
       "  <tbody>\n",
       "    <tr>\n",
       "      <th>0</th>\n",
       "      <td>Don Young</td>\n",
       "      <td>[\\nAdded a new video: \"Satisfaction Lamajj ft ...</td>\n",
       "      <td>[0.0, 0.0, 0.0, 0.0, 0.0, 1.0, 1.0, 0.0, 0.0, ...</td>\n",
       "      <td>[0.0, 0.0, 0.0, 0.0, 0.0, 0.0, 15.0, 0.0, 0.0,...</td>\n",
       "      <td>[1.0, 0.0, 0.0, 0.0, 1.0, 1.0, 28.0, 0.0, 0.0,...</td>\n",
       "      <td>1</td>\n",
       "      <td>0</td>\n",
       "    </tr>\n",
       "    <tr>\n",
       "      <th>1</th>\n",
       "      <td>Steve Lindbeck</td>\n",
       "      <td>[\\nSteve Lindbeck is running as a Democrat aga...</td>\n",
       "      <td>[0.0, 1.0, 0.0, 0.0, 0.0, 0.0, 0.0, 1.0, 1.0, ...</td>\n",
       "      <td>[0.0, 15.0, 0.0, 2.0, 0.0, 0.0, 0.0, 0.0, 4.0,...</td>\n",
       "      <td>[0.0, 28.0, 0.0, 3.0, 0.0, 0.0, 0.0, 0.0, 2.0,...</td>\n",
       "      <td>0</td>\n",
       "      <td>0</td>\n",
       "    </tr>\n",
       "    <tr>\n",
       "      <th>2</th>\n",
       "      <td>Jim C. McDermott</td>\n",
       "      <td>[]</td>\n",
       "      <td>[]</td>\n",
       "      <td>[]</td>\n",
       "      <td>[]</td>\n",
       "      <td>0</td>\n",
       "      <td>0</td>\n",
       "    </tr>\n",
       "    <tr>\n",
       "      <th>3</th>\n",
       "      <td>Bernie Souphanavong</td>\n",
       "      <td>[\\nBernie Souphanavong brings up drones, Dosto...</td>\n",
       "      <td>[0.0, 0.0, 0.0]</td>\n",
       "      <td>[0.0, 0.0, 6.0]</td>\n",
       "      <td>[0.0, 0.0, 4.0]</td>\n",
       "      <td>0</td>\n",
       "      <td>0</td>\n",
       "    </tr>\n",
       "    <tr>\n",
       "      <th>4</th>\n",
       "      <td>Stephen Wright</td>\n",
       "      <td>[\\nWho writes her material? I'd buy a CD for h...</td>\n",
       "      <td>[0.0, 0.0, 0.0, 0.0, 0.0, 0.0, 0.0, 2.0, 1.0, ...</td>\n",
       "      <td>[0.0, 0.0, 0.0, 2.0, 0.0, 0.0, 1.0, 0.0, 0.0, ...</td>\n",
       "      <td>[0.0, 0.0, 0.0, 6.0, 1.0, 0.0, 3.0, 1.0, 1.0, ...</td>\n",
       "      <td>0</td>\n",
       "      <td>0</td>\n",
       "    </tr>\n",
       "  </tbody>\n",
       "</table>\n",
       "</div>"
      ],
      "text/plain": [
       "             candidate                                             tweets  \\\n",
       "0            Don Young  [\\nAdded a new video: \"Satisfaction Lamajj ft ...   \n",
       "1       Steve Lindbeck  [\\nSteve Lindbeck is running as a Democrat aga...   \n",
       "2     Jim C. McDermott                                                 []   \n",
       "3  Bernie Souphanavong  [\\nBernie Souphanavong brings up drones, Dosto...   \n",
       "4       Stephen Wright  [\\nWho writes her material? I'd buy a CD for h...   \n",
       "\n",
       "                                             replies  \\\n",
       "0  [0.0, 0.0, 0.0, 0.0, 0.0, 1.0, 1.0, 0.0, 0.0, ...   \n",
       "1  [0.0, 1.0, 0.0, 0.0, 0.0, 0.0, 0.0, 1.0, 1.0, ...   \n",
       "2                                                 []   \n",
       "3                                    [0.0, 0.0, 0.0]   \n",
       "4  [0.0, 0.0, 0.0, 0.0, 0.0, 0.0, 0.0, 2.0, 1.0, ...   \n",
       "\n",
       "                                            retweets  \\\n",
       "0  [0.0, 0.0, 0.0, 0.0, 0.0, 0.0, 15.0, 0.0, 0.0,...   \n",
       "1  [0.0, 15.0, 0.0, 2.0, 0.0, 0.0, 0.0, 0.0, 4.0,...   \n",
       "2                                                 []   \n",
       "3                                    [0.0, 0.0, 6.0]   \n",
       "4  [0.0, 0.0, 0.0, 2.0, 0.0, 0.0, 1.0, 0.0, 0.0, ...   \n",
       "\n",
       "                                           favorites  winner  race_index  \n",
       "0  [1.0, 0.0, 0.0, 0.0, 1.0, 1.0, 28.0, 0.0, 0.0,...       1           0  \n",
       "1  [0.0, 28.0, 0.0, 3.0, 0.0, 0.0, 0.0, 0.0, 2.0,...       0           0  \n",
       "2                                                 []       0           0  \n",
       "3                                    [0.0, 0.0, 4.0]       0           0  \n",
       "4  [0.0, 0.0, 0.0, 6.0, 1.0, 0.0, 3.0, 1.0, 1.0, ...       0           0  "
      ]
     },
     "execution_count": 14,
     "metadata": {},
     "output_type": "execute_result"
    }
   ],
   "source": [
    "df_test.head()"
   ]
  },
  {
   "cell_type": "code",
   "execution_count": 15,
   "metadata": {},
   "outputs": [
    {
     "data": {
      "text/plain": [
       "candidate                                             Paul Ryan\n",
       "tweets        [\\nThe nightmare for Republicans is, if Trump ...\n",
       "replies       [153.0, 5.0, 11.0, 2.0, 9.0, 2.0, 2.0, 4.0, 62...\n",
       "retweets      [944.0, 31.0, 40.0, 40.0, 88.0, 58.0, 18.0, 50...\n",
       "favorites     [2766.0, 56.0, 16.0, 79.0, 93.0, 62.0, 23.0, 1...\n",
       "winner                                                        1\n",
       "race_index                                                  148\n",
       "Name: 501, dtype: object"
      ]
     },
     "execution_count": 15,
     "metadata": {},
     "output_type": "execute_result"
    }
   ],
   "source": [
    "## who has the most tweets of the 2016 candidates?\n",
    "df_test.loc[df_test.tweets.apply(len).idxmax()]"
   ]
  },
  {
   "cell_type": "markdown",
   "metadata": {},
   "source": [
    "Now, I will do the same model building procedure as last time. There are three classes of features: metadata about the language within the tweets (i.e. average number of words per tweet), metadata about the tweets (i.e. average number of replies per tweet), and a tfidf vectorizer built using the words as tokens treating all of the tweets about a candidate concatenated together as a document (i.e. tfidf score of the word \"congressman\"). The model is an XGBoost classifier."
   ]
  },
  {
   "cell_type": "code",
   "execution_count": 16,
   "metadata": {
    "collapsed": true
   },
   "outputs": [],
   "source": [
    "from sklearn.feature_extraction.text import TfidfVectorizer\n",
    "from sklearn.feature_extraction.stop_words import ENGLISH_STOP_WORDS\n",
    "from sklearn.pipeline import Pipeline, FeatureUnion\n",
    "from sklearn.base import BaseEstimator, TransformerMixin\n",
    "from xgboost import XGBClassifier\n",
    "from sklearn.model_selection import StratifiedKFold"
   ]
  },
  {
   "cell_type": "code",
   "execution_count": 17,
   "metadata": {
    "collapsed": true
   },
   "outputs": [],
   "source": [
    "## This is useful for selecting a subset of features in the middle of a Pipeline\n",
    "class ItemSelector(BaseEstimator, TransformerMixin):\n",
    "    def __init__(self, keys, ndim):\n",
    "        self.keys = keys\n",
    "        self.ndim = ndim\n",
    "    \n",
    "    def fit(self, x, y=None):\n",
    "        return self\n",
    "    \n",
    "    def transform(self, data_dict):\n",
    "        res = data_dict[self.keys]\n",
    "        return res\n",
    "\n",
    "## Making some features about the text itself\n",
    "class TweetTextMetadata(BaseEstimator, TransformerMixin):\n",
    "    def __init__(self):\n",
    "        pass\n",
    "    \n",
    "    def fit(self, x, y=None):\n",
    "        return self\n",
    "    \n",
    "    def transform(self, docs):\n",
    "        ave_words_per_tweet = [sum(len(tweet.split(' '))\n",
    "                                   for tweet in tweets)\\\n",
    "                               /len(tweets) \n",
    "                               if len(tweets) else 0\n",
    "                               for tweets in docs]\n",
    "        total_number_words = [sum(len(tweet.split(' '))\n",
    "                                  for tweet in tweets)\n",
    "                              for tweets in docs]\n",
    "        ave_word_len = [sum(len(word) for tweet in tweets \n",
    "                            for word in tweet.split(' '))/\\\n",
    "                        sum(1 for tweet in tweets\n",
    "                            for word in tweet.split(' '))\n",
    "                        if len(tweets) else 0 for tweets in docs]\n",
    "        total_periods = [sum(tweet.count('.')\n",
    "                             for tweet in tweets)\n",
    "                         for tweets in docs]\n",
    "        total_q_marks = [sum(tweet.count('?')\n",
    "                             for tweet in tweets)\n",
    "                         for tweets in docs]\n",
    "        return np.column_stack([value \n",
    "                                for key,value in locals().items()\n",
    "                                if isinstance(value,list)])\n",
    "\n",
    "    names = ['ave_words_per_tweet','total_number_words','ave_word_len','total_periods','total_q_marks']\n",
    "\n",
    "## Making some features about the favorites, retweets, etc.\n",
    "class TweetStats(BaseEstimator, TransformerMixin):\n",
    "    def __init__(self):\n",
    "        pass\n",
    "    \n",
    "    def fit(self, x, y=None):\n",
    "        return self\n",
    "    \n",
    "    def transform(self, df):\n",
    "        warnings.filterwarnings(\"ignore\",\n",
    "                                message=\"Mean of empty slice.\")\n",
    "        total_replies = df.replies.apply(sum)\n",
    "        total_retweets = df.retweets.apply(sum)\n",
    "        total_favorites = df.favorites.apply(sum)\n",
    "        num_tweets = df.replies.apply(len)\n",
    "        ave_replies_per_tweet = df.replies.apply(np.mean).fillna(0)\n",
    "        ave_retweets_per_tweet = df.retweets.apply(np.mean).fillna(0)\n",
    "        ave_favorites_per_tweet = df.favorites.apply(np.mean).fillna(0)\n",
    "        ninety_eighth_percentile_replies = df.replies.apply(lambda x: np.percentile(x,98.) if len(x) else 0.)\n",
    "        ninety_eighth_percentile_retweets = df.retweets.apply(lambda x: np.percentile(x,98.) if len(x) else 0.)\n",
    "        ninety_eighth_percentile_favorites = df.favorites.apply(lambda x: np.percentile(x,98.) if len(x) else 0.)\n",
    "        return np.column_stack([value.values for key,value in locals().items() if isinstance(value,pd.Series)])\n",
    "    \n",
    "    names = ['total_replies','total_retweets','total_favorites',\n",
    "             'num_tweets','ave_replies_per_tweet','ave_retweets_per_tweet',\n",
    "             'ave_favorites_per_tweet','ninety_eighth_percentile_replies',\n",
    "             'ninety_eighth_percentile_retweets',\n",
    "             'ninety_eighth_percentile_favorites']\n",
    "\n",
    "## This inherits a TfidfVectorizer and just cleans the tweets a little before vectorizing them\n",
    "## (this is probably unnecessary but haven't tested)\n",
    "class CustomTfidfVectorizer(TfidfVectorizer):\n",
    "    def cleanse_tweets(self,tweets):\n",
    "        return ' '.join([word for tweet in tweets\n",
    "                         for word in tweet.split(' ') \n",
    "                         if 'http://' not in word\n",
    "                         and 'www.' not in word\n",
    "                         and '@' not in word\n",
    "                         and 'https://' not in word\n",
    "                         and '.com' not in word\n",
    "                         and '.net' not in word])\n",
    "    \n",
    "    def fit(self, x, y=None):\n",
    "        return super().fit(x.apply(self.cleanse_tweets).values)\n",
    "    \n",
    "    def transform(self, x):\n",
    "        return super().transform(x.apply(self.cleanse_tweets).values)\n",
    "\n",
    "    def fit_transform(self, x, y=None):\n",
    "        self.fit(x,y)\n",
    "        return self.transform(x)\n",
    "\n",
    "## This takes in a XGBClassifier and finds the optimal number of trees using CV\n",
    "def get_num_trees(clf,X,y,cv,eval_metric='logloss',early_stopping_rounds=10):\n",
    "    n_trees = []\n",
    "    for train,test in cv.split(X,y):\n",
    "        clf.fit(X[train], y[train],\n",
    "                eval_set=[[X[test],y[test]]],\n",
    "                eval_metric=eval_metric, \n",
    "                early_stopping_rounds=early_stopping_rounds,\n",
    "                verbose=False)\n",
    "        n_trees.append(clf.best_iteration)\n",
    "    print('Number of trees selected: %d' % \\\n",
    "          (int(sum(n_trees)/len(n_trees)),))\n",
    "    return int(sum(n_trees)/len(n_trees))"
   ]
  },
  {
   "cell_type": "code",
   "execution_count": 18,
   "metadata": {
    "collapsed": true
   },
   "outputs": [],
   "source": [
    "names = [name_.lower() for result in race_metadata.Result\n",
    "         for name,_,_ in json.loads(result) for name_ in name.split()]\n",
    "stop_words = names + list(ENGLISH_STOP_WORDS)"
   ]
  },
  {
   "cell_type": "code",
   "execution_count": 19,
   "metadata": {
    "collapsed": true
   },
   "outputs": [],
   "source": [
    "## I did grid search some of the below hyperparameters using grouped CV\n",
    "features = FeatureUnion(\n",
    "[\n",
    "('tfidf',Pipeline([\n",
    "    ('selector',ItemSelector(keys='tweets',ndim=1)),\n",
    "    ('tfidf',CustomTfidfVectorizer(use_idf=False,\n",
    "                                   stop_words=stop_words,\n",
    "                                   ngram_range=(1,1),\n",
    "                                   min_df=.05))\n",
    "])),\n",
    "('tweet_metadata',Pipeline([\n",
    "    ('selector',ItemSelector(keys='tweets',ndim=1)),\n",
    "    ('metadata_extractor',TweetTextMetadata())\n",
    "])),\n",
    "('tweet_stats',Pipeline([\n",
    "    ('selector',ItemSelector(keys=['replies','retweets',\n",
    "                                   'favorites'],\n",
    "                             ndim=2)),\n",
    "    ('tweet_stats_extractor',TweetStats())\n",
    "]))\n",
    "])\n",
    "\n",
    "clf = XGBClassifier(learning_rate=.01,n_estimators=100000,\n",
    "                    subsample=.9,max_depth=2)"
   ]
  },
  {
   "cell_type": "code",
   "execution_count": 20,
   "metadata": {},
   "outputs": [
    {
     "name": "stdout",
     "output_type": "stream",
     "text": [
      "Number of trees selected: 476\n"
     ]
    }
   ],
   "source": [
    "## make train matrix, fit model on train set\n",
    "X = features.fit_transform(df_train[['tweets','replies',\n",
    "                                     'retweets','favorites']])\n",
    "y = df_train['winner'].values\n",
    "cv = StratifiedKFold(n_splits=6,shuffle=True)\n",
    "n_estimators = get_num_trees(clf,X,y,cv)\n",
    "clf.n_estimators = n_estimators\n",
    "clf.fit(X,y)\n",
    "feature_names = sorted(['WORD_%s' % (word,)\n",
    "                        for word in features.get_params()['tfidf'].get_params()['tfidf'].vocabulary_.keys()]) +\\\n",
    "                TweetTextMetadata.names +\\\n",
    "                TweetStats.names"
   ]
  },
  {
   "cell_type": "code",
   "execution_count": 21,
   "metadata": {},
   "outputs": [
    {
     "name": "stdout",
     "output_type": "stream",
     "text": [
      "WORD_congressman 0.136006\n",
      "WORD_evaluation 0.0844667\n",
      "WORD_113th 0.0622763\n",
      "WORD_members 0.0450966\n",
      "WORD_congress 0.0350752\n",
      "WORD_ad 0.027917\n",
      "WORD_ads 0.0257695\n",
      "WORD_rep 0.0250537\n",
      "WORD_state 0.0229062\n",
      "WORD_youtube 0.0221904\n"
     ]
    }
   ],
   "source": [
    "## print top 10 importances and their names\n",
    "importances = clf.feature_importances_\n",
    "importances = {u:val for u,val in enumerate(importances)}\n",
    "for ind in sorted(importances,key=importances.get,reverse=True)[:10]:\n",
    "    print(feature_names[ind],importances[ind])"
   ]
  },
  {
   "cell_type": "markdown",
   "metadata": {},
   "source": [
    "Looking at this feature importances a second time, it looks like the words chosen as important are proxies for whether the candidate is the incumbent. This makes sense, from the little that I know about politics. "
   ]
  },
  {
   "cell_type": "markdown",
   "metadata": {},
   "source": [
    "Let's look at the training accuracy:"
   ]
  },
  {
   "cell_type": "code",
   "execution_count": 22,
   "metadata": {
    "collapsed": true
   },
   "outputs": [],
   "source": [
    "preds = clf.predict_proba(X)[:,1]\n",
    "## put the raw predictions in the dataframe so we can use df.groupy\n",
    "df_train['pred_raw'] = preds"
   ]
  },
  {
   "cell_type": "code",
   "execution_count": 23,
   "metadata": {},
   "outputs": [
    {
     "data": {
      "text/html": [
       "<div>\n",
       "<style scoped>\n",
       "    .dataframe tbody tr th:only-of-type {\n",
       "        vertical-align: middle;\n",
       "    }\n",
       "\n",
       "    .dataframe tbody tr th {\n",
       "        vertical-align: top;\n",
       "    }\n",
       "\n",
       "    .dataframe thead th {\n",
       "        text-align: right;\n",
       "    }\n",
       "</style>\n",
       "<table border=\"1\" class=\"dataframe\">\n",
       "  <thead>\n",
       "    <tr style=\"text-align: right;\">\n",
       "      <th></th>\n",
       "      <th>candidate</th>\n",
       "      <th>tweets</th>\n",
       "      <th>replies</th>\n",
       "      <th>retweets</th>\n",
       "      <th>favorites</th>\n",
       "      <th>winner</th>\n",
       "      <th>race_index</th>\n",
       "      <th>pred_raw</th>\n",
       "    </tr>\n",
       "  </thead>\n",
       "  <tbody>\n",
       "    <tr>\n",
       "      <th>0</th>\n",
       "      <td>Bradley Byrne</td>\n",
       "      <td>[\\nThings to do Tuesday:\\n-VOTE; remind friend...</td>\n",
       "      <td>[0.0, 0.0, 0.0, 0.0, 0.0, 0.0, 0.0, 0.0, 0.0, ...</td>\n",
       "      <td>[0.0, 3.0, 0.0, 0.0, 0.0, 7.0, 0.0, 0.0, 0.0, ...</td>\n",
       "      <td>[0.0, 2.0, 0.0, 0.0, 0.0, 0.0, 1.0, 0.0, 0.0, ...</td>\n",
       "      <td>1</td>\n",
       "      <td>0</td>\n",
       "      <td>0.979400</td>\n",
       "    </tr>\n",
       "    <tr>\n",
       "      <th>1</th>\n",
       "      <td>Burton LeFlore</td>\n",
       "      <td>[\\nWATCH: http://ln.is/youtu.be/jvTA8    ELECT...</td>\n",
       "      <td>[0.0, 0.0, 0.0, 0.0, 0.0, 2.0, 0.0, 0.0, 0.0, ...</td>\n",
       "      <td>[0.0, 7.0, 0.0, 0.0, 0.0, 1.0, 0.0, 0.0, 0.0, ...</td>\n",
       "      <td>[0.0, 0.0, 0.0, 1.0, 0.0, 1.0, 0.0, 0.0, 0.0, ...</td>\n",
       "      <td>0</td>\n",
       "      <td>0</td>\n",
       "      <td>0.055113</td>\n",
       "    </tr>\n",
       "    <tr>\n",
       "      <th>2</th>\n",
       "      <td>Martha Roby</td>\n",
       "      <td>[\\nGlad to see and hear Martha Roby at Rotary ...</td>\n",
       "      <td>[0.0, 0.0, 0.0, 0.0, 0.0, 0.0, 0.0, 0.0, 0.0, ...</td>\n",
       "      <td>[0.0, 0.0, 0.0, 17.0, 0.0, 0.0, 0.0, 0.0, 0.0,...</td>\n",
       "      <td>[0.0, 1.0, 0.0, 1.0, 0.0, 0.0, 0.0, 0.0, 1.0, ...</td>\n",
       "      <td>1</td>\n",
       "      <td>1</td>\n",
       "      <td>0.953310</td>\n",
       "    </tr>\n",
       "    <tr>\n",
       "      <th>3</th>\n",
       "      <td>Erick Wright</td>\n",
       "      <td>[\\nBetter Vote Erick Wright, Jennifer S. Marsd...</td>\n",
       "      <td>[0.0, 0.0, 0.0, 0.0, 0.0, 0.0, 0.0, 0.0, 0.0, ...</td>\n",
       "      <td>[0.0, 0.0, 0.0, 0.0, 17.0, 0.0, 0.0, 0.0, 0.0,...</td>\n",
       "      <td>[0.0, 0.0, 0.0, 0.0, 1.0, 0.0, 0.0, 0.0, 0.0, ...</td>\n",
       "      <td>0</td>\n",
       "      <td>1</td>\n",
       "      <td>0.043328</td>\n",
       "    </tr>\n",
       "    <tr>\n",
       "      <th>4</th>\n",
       "      <td>Mike Rogers</td>\n",
       "      <td>[\\nNSA Director Mike Rogers will begin his add...</td>\n",
       "      <td>[0.0, 0.0, 0.0, 0.0, 0.0, 1.0, 0.0, 0.0, 0.0, ...</td>\n",
       "      <td>[1.0, 0.0, 7.0, 0.0, 2.0, 1.0, 0.0, 2.0, 2.0, ...</td>\n",
       "      <td>[0.0, 0.0, 1.0, 5.0, 1.0, 1.0, 0.0, 0.0, 1.0, ...</td>\n",
       "      <td>1</td>\n",
       "      <td>2</td>\n",
       "      <td>0.954916</td>\n",
       "    </tr>\n",
       "  </tbody>\n",
       "</table>\n",
       "</div>"
      ],
      "text/plain": [
       "        candidate                                             tweets  \\\n",
       "0   Bradley Byrne  [\\nThings to do Tuesday:\\n-VOTE; remind friend...   \n",
       "1  Burton LeFlore  [\\nWATCH: http://ln.is/youtu.be/jvTA8    ELECT...   \n",
       "2     Martha Roby  [\\nGlad to see and hear Martha Roby at Rotary ...   \n",
       "3    Erick Wright  [\\nBetter Vote Erick Wright, Jennifer S. Marsd...   \n",
       "4     Mike Rogers  [\\nNSA Director Mike Rogers will begin his add...   \n",
       "\n",
       "                                             replies  \\\n",
       "0  [0.0, 0.0, 0.0, 0.0, 0.0, 0.0, 0.0, 0.0, 0.0, ...   \n",
       "1  [0.0, 0.0, 0.0, 0.0, 0.0, 2.0, 0.0, 0.0, 0.0, ...   \n",
       "2  [0.0, 0.0, 0.0, 0.0, 0.0, 0.0, 0.0, 0.0, 0.0, ...   \n",
       "3  [0.0, 0.0, 0.0, 0.0, 0.0, 0.0, 0.0, 0.0, 0.0, ...   \n",
       "4  [0.0, 0.0, 0.0, 0.0, 0.0, 1.0, 0.0, 0.0, 0.0, ...   \n",
       "\n",
       "                                            retweets  \\\n",
       "0  [0.0, 3.0, 0.0, 0.0, 0.0, 7.0, 0.0, 0.0, 0.0, ...   \n",
       "1  [0.0, 7.0, 0.0, 0.0, 0.0, 1.0, 0.0, 0.0, 0.0, ...   \n",
       "2  [0.0, 0.0, 0.0, 17.0, 0.0, 0.0, 0.0, 0.0, 0.0,...   \n",
       "3  [0.0, 0.0, 0.0, 0.0, 17.0, 0.0, 0.0, 0.0, 0.0,...   \n",
       "4  [1.0, 0.0, 7.0, 0.0, 2.0, 1.0, 0.0, 2.0, 2.0, ...   \n",
       "\n",
       "                                           favorites  winner  race_index  \\\n",
       "0  [0.0, 2.0, 0.0, 0.0, 0.0, 0.0, 1.0, 0.0, 0.0, ...       1           0   \n",
       "1  [0.0, 0.0, 0.0, 1.0, 0.0, 1.0, 0.0, 0.0, 0.0, ...       0           0   \n",
       "2  [0.0, 1.0, 0.0, 1.0, 0.0, 0.0, 0.0, 0.0, 1.0, ...       1           1   \n",
       "3  [0.0, 0.0, 0.0, 0.0, 1.0, 0.0, 0.0, 0.0, 0.0, ...       0           1   \n",
       "4  [0.0, 0.0, 1.0, 5.0, 1.0, 1.0, 0.0, 0.0, 1.0, ...       1           2   \n",
       "\n",
       "   pred_raw  \n",
       "0  0.979400  \n",
       "1  0.055113  \n",
       "2  0.953310  \n",
       "3  0.043328  \n",
       "4  0.954916  "
      ]
     },
     "execution_count": 23,
     "metadata": {},
     "output_type": "execute_result"
    }
   ],
   "source": [
    "df_train.head()"
   ]
  },
  {
   "cell_type": "code",
   "execution_count": 24,
   "metadata": {
    "collapsed": true
   },
   "outputs": [],
   "source": [
    "## get dictionaries mappying race index to index of predicted and true winners\n",
    "preds = df_train.groupby('race_index').pred_raw.apply(lambda x: x.idxmax()).to_dict()\n",
    "true = df_train.groupby('race_index').winner.apply(lambda x: x.idxmax()).to_dict()"
   ]
  },
  {
   "cell_type": "code",
   "execution_count": 25,
   "metadata": {},
   "outputs": [
    {
     "data": {
      "text/plain": [
       "0.95216400911161736"
      ]
     },
     "execution_count": 25,
     "metadata": {},
     "output_type": "execute_result"
    }
   ],
   "source": [
    "## get train accuracy on race\n",
    "acc = np.mean([preds[race_ind]==true[race_ind] for race_ind in df_train.race_index.unique()])\n",
    "acc"
   ]
  },
  {
   "cell_type": "markdown",
   "metadata": {},
   "source": [
    "Now let's test the model on the 2016 races to see how it performs. I will produce the features using the same function as earlier, make the predictions using the trained model and then make a plot and compute the accuracy."
   ]
  },
  {
   "cell_type": "code",
   "execution_count": 26,
   "metadata": {
    "collapsed": true
   },
   "outputs": [],
   "source": [
    "## get test matrix and predictions\n",
    "X_test = features.transform(df_test[['tweets','replies','retweets','favorites']])\n",
    "preds_test = clf.predict_proba(X_test)[:,1]"
   ]
  },
  {
   "cell_type": "code",
   "execution_count": 27,
   "metadata": {},
   "outputs": [
    {
     "data": {
      "image/png": "[encoded data removed]",
      "text/plain": [
       "<matplotlib.figure.Figure at 0x126debeb8>"
      ]
     },
     "metadata": {},
     "output_type": "display_data"
    }
   ],
   "source": [
    "## make a plot\n",
    "fig,ax = plt.subplots(1,1,figsize=(13,5))\n",
    "plt.hist(preds_test[(df_test.winner==1).values],alpha=.5,\n",
    "         label='predictions for winners');\n",
    "plt.hist(preds_test[(df_test.winner==0).values],alpha=.5,\n",
    "         label='predictions for non-winners');\n",
    "plt.legend();\n",
    "plt.title('Test Set Predictions');"
   ]
  },
  {
   "cell_type": "code",
   "execution_count": 28,
   "metadata": {
    "collapsed": true
   },
   "outputs": [],
   "source": [
    "## put the raw predictions in the test dataframe so we can use df.groupy\n",
    "df_test['pred_raw'] = preds_test"
   ]
  },
  {
   "cell_type": "code",
   "execution_count": 29,
   "metadata": {
    "collapsed": true
   },
   "outputs": [],
   "source": [
    "## get dictionaries mappying race index to index of predicted and true winners, this time on test set\n",
    "preds_test = df_test.groupby('race_index').pred_raw.apply(lambda x: x.idxmax()).to_dict()\n",
    "true_test = df_test.groupby('race_index').winner.apply(lambda x: x.idxmax()).to_dict()"
   ]
  },
  {
   "cell_type": "code",
   "execution_count": 30,
   "metadata": {},
   "outputs": [
    {
     "data": {
      "text/plain": [
       "0.88135593220338981"
      ]
     },
     "execution_count": 30,
     "metadata": {},
     "output_type": "execute_result"
    }
   ],
   "source": [
    "## get test accuracy on race level\n",
    "acc = np.mean([preds_test[race_ind]==true_test[race_ind] for race_ind in df_test.race_index.unique()])\n",
    "acc"
   ]
  },
  {
   "cell_type": "markdown",
   "metadata": {},
   "source": [
    "88% accuracy is not that bad! Considering I used nothing but tweets and imbued no prior knowledge."
   ]
  },
  {
   "cell_type": "markdown",
   "metadata": {},
   "source": [
    "Let's take a quick look at where the model failed. First, here's the highest raw prediction (the probability that the candidate will win) for a non-winner:"
   ]
  },
  {
   "cell_type": "code",
   "execution_count": 31,
   "metadata": {},
   "outputs": [
    {
     "data": {
      "text/html": [
       "<div>\n",
       "<style scoped>\n",
       "    .dataframe tbody tr th:only-of-type {\n",
       "        vertical-align: middle;\n",
       "    }\n",
       "\n",
       "    .dataframe tbody tr th {\n",
       "        vertical-align: top;\n",
       "    }\n",
       "\n",
       "    .dataframe thead th {\n",
       "        text-align: right;\n",
       "    }\n",
       "</style>\n",
       "<table border=\"1\" class=\"dataframe\">\n",
       "  <thead>\n",
       "    <tr style=\"text-align: right;\">\n",
       "      <th></th>\n",
       "      <th>candidate</th>\n",
       "      <th>tweets</th>\n",
       "      <th>replies</th>\n",
       "      <th>retweets</th>\n",
       "      <th>favorites</th>\n",
       "      <th>winner</th>\n",
       "      <th>race_index</th>\n",
       "      <th>pred_raw</th>\n",
       "    </tr>\n",
       "  </thead>\n",
       "  <tbody>\n",
       "    <tr>\n",
       "      <th>511</th>\n",
       "      <td>Sarah Lloyd</td>\n",
       "      <td>[\\nours increase when more anxious as well. bu...</td>\n",
       "      <td>[2.0, 3.0, 0.0, 0.0, 0.0, 0.0, 0.0, 1.0, 0.0, ...</td>\n",
       "      <td>[0.0, 0.0, 1.0, 1.0, 4.0, 0.0, 0.0, 5.0, 1.0, ...</td>\n",
       "      <td>[1.0, 0.0, 3.0, 0.0, 3.0, 0.0, 0.0, 5.0, 4.0, ...</td>\n",
       "      <td>0</td>\n",
       "      <td>151</td>\n",
       "      <td>0.801264</td>\n",
       "    </tr>\n",
       "  </tbody>\n",
       "</table>\n",
       "</div>"
      ],
      "text/plain": [
       "       candidate                                             tweets  \\\n",
       "511  Sarah Lloyd  [\\nours increase when more anxious as well. bu...   \n",
       "\n",
       "                                               replies  \\\n",
       "511  [2.0, 3.0, 0.0, 0.0, 0.0, 0.0, 0.0, 1.0, 0.0, ...   \n",
       "\n",
       "                                              retweets  \\\n",
       "511  [0.0, 0.0, 1.0, 1.0, 4.0, 0.0, 0.0, 5.0, 1.0, ...   \n",
       "\n",
       "                                             favorites  winner  race_index  \\\n",
       "511  [1.0, 0.0, 3.0, 0.0, 3.0, 0.0, 0.0, 5.0, 4.0, ...       0         151   \n",
       "\n",
       "     pred_raw  \n",
       "511  0.801264  "
      ]
     },
     "execution_count": 31,
     "metadata": {},
     "output_type": "execute_result"
    }
   ],
   "source": [
    "df_test[~df_test.winner.astype(bool)].sort_values('pred_raw',ascending=False).head(1)"
   ]
  },
  {
   "cell_type": "code",
   "execution_count": 32,
   "metadata": {},
   "outputs": [
    {
     "data": {
      "text/plain": [
       "array([ '\\nours increase when more anxious as well. but also notice everyday stuff after hearing Sarah Lloyd talk.\\n',\n",
       "       '\\n2/2 having heard Sarah Lloyd, wondering about under-developed sensory system and using sensory integration.\\n',\n",
       "       '\\n@lloyd4wi Sarah Lloyd finds #frogandtoad in #littlefreelibrary.  #flipitdem.pic.twitter.com/Z6j2wtPXU9\\n',\n",
       "       '\\n@lloyd4wi Sarah Lloyd meeting voters who want a change. #flipitdem\\n@WisDems know what a difference she will makepic.twitter.com/f8Xt7qBYc5\\n',\n",
       "       '\\nSarah Lloyd @lloyd4wi out and about in #fdl.  @WisDems working to #flipitdem\\n@Khary4Congress\\n@Ryan_Solen \\n@NelsonforWI\\n@MaryHoeftForWIpic.twitter.com/WW49weFkLX\\n',\n",
       "       '\\nSarah Lloyd smart, articulate candidate http://fondul.ac/2ezRmr8\\xa0 #wiunion #wiright #wipolitics\\n',\n",
       "       '\\nWI-06 Sarah LLOYD\\n4 CONGRESS@FlipItDem\\n@lloyd4wi#BlueWI\\nFLIP  HOUSE  BLUE & \\nMadame POTUSDem Majority\\nDEFEAT Glenn Grothmanpic.twitter.com/9Dw5MUnuhk\\n',\n",
       "       '\\nDonald Trump & Glenn Grothman think Rapists have Rights! \\nWisconsin, Vote for Sarah Lloyd\\n@lloyd4wi @FlipItDem #BlueWave2016 #ImWithHerpic.twitter.com/xeQlZWBZm0\\n',\n",
       "       \"\\nIt's the final weekend. @WisDems time to get out\\n@lloyd4wi Sarah Lloyd\\n@Khary4Congress\\n@NelsonforWI \\nLet's #FlipItDem and make a differencepic.twitter.com/VDB2dO1M41\\n\",\n",
       "       '\\nDonald Trump & Glenn Grothman want to Punish You! \\nFight back Wisconsin, vote for Sarah Lloyd! @lloyd4wi @FlipItDem #ImWithHer #BlueWave2016pic.twitter.com/NYZPhQpOAe\\n',\n",
       "       '\\nSettling down to hear Sarah Lloyd #sensoryintegration\\n',\n",
       "       '\\nRetweeted Sarah Lloyd-Hughes (@gingernibbles):\\n\\nThe five types of difficult audience members… and how to handle... http://fb.me/4jM5VlkQx\\xa0\\n',\n",
       "       '\\nWI 06  SARAH LLOYD\\n4CONGRESSMUST WIN\\n@lloyd4wi@FlipItDem\\nFLIPHOUSEBLUE\\nMadame POTUSDem Majority\\nDEFEAT Glenn Grothmanpic.twitter.com/5ve6EQYXtG\\n',\n",
       "       '\\nEditorial: Sarah Lloyd is ready to represent Wisconsin http://host.madison.com/opinion/editorial/editorial-sarah-lloyd-is-ready-to-represent-wisconsin/article_c794e3bb-2a00-5ba1-b6da-79c51cee6b07.html?utm_medium=social&utm_source=twitter&utm_campaign=user-share\\xa0… via @CapTimes #wiunion #wiright #DumpGrothman\\n',\n",
       "       '\\nWisconsin we need Sarah Lloyd!  Vote  for her on Tuesday !\\n',\n",
       "       \"\\nDonald Trump & Glenn Grothman don't want YOU to know this! \\nVote for Sarah Lloyd\\n@lloyd4wi @FlipItDem #ThursdayThoughts #BlueWave2016pic.twitter.com/KzlaT2diHw\\n\",\n",
       "       '\\nEditorial: Sarah Lloyd is ready to represent Wisconsin http://host.madison.com/opinion/editorial/editorial-sarah-lloyd-is-ready-to-represent-wisconsin/article_c794e3bb-2a00-5ba1-b6da-79c51cee6b07.html?utm_medium=social&utm_source=twitter&utm_campaign=user-share\\xa0… via @CapTimes #wiunion #wipolitics #DumpGrothman\\n',\n",
       "       '\\nCandidates4Prog: RT NewWisGov: Sarah Lloyd is ready to represent Wisconsin http://host.madison.com/opinion/editorial/editorial-sarah-lloyd-is-ready-to-represent-wisconsin/article_c794e3bb-2a00-5ba1-b6da-79c51cee6b07.html?utm_medium=social&utm_source=twitter&utm_campaign=user-share\\xa0… #wipolitics #WI06 #WiBackHer\\n',\n",
       "       '\\nSarah Lloyd = Wisconsins next progressive hero. And btw we need them! https://twitter.com/newwisgov/status/793995406627606528\\xa0…\\n',\n",
       "       '\\nSarah Lloyd is ready to represent Wisconsin http://host.madison.com/opinion/editorial/editorial-sarah-lloyd-is-ready-to-represent-wisconsin/article_c794e3bb-2a00-5ba1-b6da-79c51cee6b07.html?utm_medium=social&utm_source=twitter&utm_campaign=user-share\\xa0… #wipolitics #WI06 #WiBackHer\\n',\n",
       "       '\\nEditorial: Sarah Lloyd is ready to represent Wisconsin http://host.madison.com/opinion/editorial/editorial-sarah-lloyd-is-ready-to-represent-wisconsin/article_c794e3bb-2a00-5ba1-b6da-79c51cee6b07.html?utm_medium=social&utm_source=twitter&utm_campaign=user-share\\xa0… via @CapTimes #wiunion #wipolitics #DumpGrothman\\n',\n",
       "       '\\nRarely do we get superbly qualified candidates. Sarah Lloyd @lloyd4wi is good news. #flipit #voteblue #ourrevolution @Khary4Congress too!https://twitter.com/bluejean_nation/status/793844737471975424\\xa0…\\n',\n",
       "       \"\\nDonald Trump & Glenn Grothman don't want YOU to know this! \\nVote for Sarah Lloyd\\n@lloyd4wi @FlipItDem #BlueWave2016 #ImWithHerpic.twitter.com/MlwPwasjCD\\n\",\n",
       "       '\\nRemember you asked for this Sarah Lloyd you no one to blame but yourself. http://fb.me/4hrS7l8Ej\\xa0\\n',\n",
       "       '\\nJust had a great talk on the phone with congressional candidate for Wisconsin Sarah Lloyd\\n',\n",
       "       '\\nAwesome interview with Sarah Lloyd @lloyd4wi http://www.radioplusinfo.com/episode/11-1-democratic-6th-district-congressional-candidate-sarah-lloyd/\\xa0…. #ourrevolution #voteblue #flipit\\n',\n",
       "       '\\nSarah Lloyd talking about the murder of her son to knife crime...\\n#knifecrimedangers\\n#besafe\\n@WYP_LeedsINEpic.twitter.com/xTVgVG4Cgv\\n',\n",
       "       '\\nSarah Lloyd for Congress. http://fb.me/8aUhm7vcL\\xa0\\n',\n",
       "       \"\\nDonald Trump & Glenn Grothman's New & More Evil GOP! \\nFight back Wisconsin, vote for Sarah Lloyd! \\n@lloyd4wi #BlueWave2016 @FlipItDempic.twitter.com/6vmtd0FAg5\\n\",\n",
       "       '\\nEditorial: Sarah Lloyd is ready to represent Wisconsin - http://Madison.com\\xa0 http://dlvr.it/MZblyh\\xa0 #Madison #Wisconsin\\n'],\n",
       "      dtype='<U319')"
      ]
     },
     "execution_count": 32,
     "metadata": {},
     "output_type": "execute_result"
    }
   ],
   "source": [
    "## take a look at 30 of the tweets for Sarah Lloyd\n",
    "df_test[~df_test.winner.astype(bool)].sort_values('pred_raw',ascending=False).tweets.iloc[0][0:30]"
   ]
  },
  {
   "cell_type": "code",
   "execution_count": 33,
   "metadata": {},
   "outputs": [
    {
     "data": {
      "text/html": [
       "<div>\n",
       "<style scoped>\n",
       "    .dataframe tbody tr th:only-of-type {\n",
       "        vertical-align: middle;\n",
       "    }\n",
       "\n",
       "    .dataframe tbody tr th {\n",
       "        vertical-align: top;\n",
       "    }\n",
       "\n",
       "    .dataframe thead th {\n",
       "        text-align: right;\n",
       "    }\n",
       "</style>\n",
       "<table border=\"1\" class=\"dataframe\">\n",
       "  <thead>\n",
       "    <tr style=\"text-align: right;\">\n",
       "      <th></th>\n",
       "      <th>candidate</th>\n",
       "      <th>tweets</th>\n",
       "      <th>replies</th>\n",
       "      <th>retweets</th>\n",
       "      <th>favorites</th>\n",
       "      <th>winner</th>\n",
       "      <th>race_index</th>\n",
       "      <th>pred_raw</th>\n",
       "    </tr>\n",
       "  </thead>\n",
       "  <tbody>\n",
       "    <tr>\n",
       "      <th>510</th>\n",
       "      <td>Glenn Grothman</td>\n",
       "      <td>[\\nThey're ubiquitous up here.  My \"brand Glen...</td>\n",
       "      <td>[1.0, 2.0, 1.0, 0.0, 0.0, 0.0, 0.0, 0.0, 0.0, ...</td>\n",
       "      <td>[0.0, 0.0, 5.0, 0.0, 0.0, 5.0, 0.0, 1.0, 0.0, ...</td>\n",
       "      <td>[1.0, 1.0, 5.0, 1.0, 0.0, 2.0, 0.0, 1.0, 0.0, ...</td>\n",
       "      <td>1</td>\n",
       "      <td>151</td>\n",
       "      <td>0.483090</td>\n",
       "    </tr>\n",
       "    <tr>\n",
       "      <th>511</th>\n",
       "      <td>Sarah Lloyd</td>\n",
       "      <td>[\\nours increase when more anxious as well. bu...</td>\n",
       "      <td>[2.0, 3.0, 0.0, 0.0, 0.0, 0.0, 0.0, 1.0, 0.0, ...</td>\n",
       "      <td>[0.0, 0.0, 1.0, 1.0, 4.0, 0.0, 0.0, 5.0, 1.0, ...</td>\n",
       "      <td>[1.0, 0.0, 3.0, 0.0, 3.0, 0.0, 0.0, 5.0, 4.0, ...</td>\n",
       "      <td>0</td>\n",
       "      <td>151</td>\n",
       "      <td>0.801264</td>\n",
       "    </tr>\n",
       "    <tr>\n",
       "      <th>512</th>\n",
       "      <td>Jeff Dahlke</td>\n",
       "      <td>[\\nJeff Dahlke. I'm only voting him bc he boug...</td>\n",
       "      <td>[0.0, 0.0, 0.0, 0.0, 0.0, 0.0]</td>\n",
       "      <td>[0.0, 0.0, 4.0, 0.0, 0.0, 0.0]</td>\n",
       "      <td>[1.0, 1.0, 13.0, 0.0, 0.0, 0.0]</td>\n",
       "      <td>0</td>\n",
       "      <td>151</td>\n",
       "      <td>0.048588</td>\n",
       "    </tr>\n",
       "  </tbody>\n",
       "</table>\n",
       "</div>"
      ],
      "text/plain": [
       "          candidate                                             tweets  \\\n",
       "510  Glenn Grothman  [\\nThey're ubiquitous up here.  My \"brand Glen...   \n",
       "511     Sarah Lloyd  [\\nours increase when more anxious as well. bu...   \n",
       "512     Jeff Dahlke  [\\nJeff Dahlke. I'm only voting him bc he boug...   \n",
       "\n",
       "                                               replies  \\\n",
       "510  [1.0, 2.0, 1.0, 0.0, 0.0, 0.0, 0.0, 0.0, 0.0, ...   \n",
       "511  [2.0, 3.0, 0.0, 0.0, 0.0, 0.0, 0.0, 1.0, 0.0, ...   \n",
       "512                     [0.0, 0.0, 0.0, 0.0, 0.0, 0.0]   \n",
       "\n",
       "                                              retweets  \\\n",
       "510  [0.0, 0.0, 5.0, 0.0, 0.0, 5.0, 0.0, 1.0, 0.0, ...   \n",
       "511  [0.0, 0.0, 1.0, 1.0, 4.0, 0.0, 0.0, 5.0, 1.0, ...   \n",
       "512                     [0.0, 0.0, 4.0, 0.0, 0.0, 0.0]   \n",
       "\n",
       "                                             favorites  winner  race_index  \\\n",
       "510  [1.0, 1.0, 5.0, 1.0, 0.0, 2.0, 0.0, 1.0, 0.0, ...       1         151   \n",
       "511  [1.0, 0.0, 3.0, 0.0, 3.0, 0.0, 0.0, 5.0, 4.0, ...       0         151   \n",
       "512                    [1.0, 1.0, 13.0, 0.0, 0.0, 0.0]       0         151   \n",
       "\n",
       "     pred_raw  \n",
       "510  0.483090  \n",
       "511  0.801264  \n",
       "512  0.048588  "
      ]
     },
     "execution_count": 33,
     "metadata": {},
     "output_type": "execute_result"
    }
   ],
   "source": [
    "## the race Lloyd lost\n",
    "df_test[df_test.race_index==151]"
   ]
  },
  {
   "cell_type": "code",
   "execution_count": 34,
   "metadata": {},
   "outputs": [
    {
     "name": "stdout",
     "output_type": "stream",
     "text": [
      "Race                                             Wisconsin 6\n",
      "Result     [[\"Glenn Grothman\", \"Republican\", 57.2], [\"Sar...\n",
      "Chamber                                                House\n",
      "winner                                        Glenn Grothman\n",
      "Name: 151, dtype: object\n",
      "[[\"Glenn Grothman\", \"Republican\", 57.2], [\"Sarah Lloyd\", \"Democratic\", 37.3], [\"Jeff Dahlke\", \"Independent\", 5.5]]\n"
     ]
    }
   ],
   "source": [
    "print(race_metadata_2016.loc[151])\n",
    "print(race_metadata_2016.loc[151].Result)"
   ]
  },
  {
   "cell_type": "markdown",
   "metadata": {},
   "source": [
    "So this looks like a race where Democratic enthusiasm (or twitter activism) was high but the Republican won. It could also have a little to do with the fact that Sarah Lloyd is also the name of a British travel writer but not sure."
   ]
  },
  {
   "cell_type": "markdown",
   "metadata": {},
   "source": [
    "Now let's take a look at the lowest raw prediction for a winner:"
   ]
  },
  {
   "cell_type": "code",
   "execution_count": 35,
   "metadata": {},
   "outputs": [
    {
     "data": {
      "text/html": [
       "<div>\n",
       "<style scoped>\n",
       "    .dataframe tbody tr th:only-of-type {\n",
       "        vertical-align: middle;\n",
       "    }\n",
       "\n",
       "    .dataframe tbody tr th {\n",
       "        vertical-align: top;\n",
       "    }\n",
       "\n",
       "    .dataframe thead th {\n",
       "        text-align: right;\n",
       "    }\n",
       "</style>\n",
       "<table border=\"1\" class=\"dataframe\">\n",
       "  <thead>\n",
       "    <tr style=\"text-align: right;\">\n",
       "      <th></th>\n",
       "      <th>candidate</th>\n",
       "      <th>tweets</th>\n",
       "      <th>replies</th>\n",
       "      <th>retweets</th>\n",
       "      <th>favorites</th>\n",
       "      <th>winner</th>\n",
       "      <th>race_index</th>\n",
       "      <th>pred_raw</th>\n",
       "    </tr>\n",
       "  </thead>\n",
       "  <tbody>\n",
       "    <tr>\n",
       "      <th>240</th>\n",
       "      <td>Jason T. Smith</td>\n",
       "      <td>[\\nEver ask \"Why ain't my SH*T selling?\" Join ...</td>\n",
       "      <td>[0.0, 0.0, 0.0, 0.0]</td>\n",
       "      <td>[0.0, 0.0, 1.0, 0.0]</td>\n",
       "      <td>[0.0, 0.0, 4.0, 0.0]</td>\n",
       "      <td>1</td>\n",
       "      <td>69</td>\n",
       "      <td>0.039982</td>\n",
       "    </tr>\n",
       "  </tbody>\n",
       "</table>\n",
       "</div>"
      ],
      "text/plain": [
       "          candidate                                             tweets  \\\n",
       "240  Jason T. Smith  [\\nEver ask \"Why ain't my SH*T selling?\" Join ...   \n",
       "\n",
       "                  replies              retweets             favorites  winner  \\\n",
       "240  [0.0, 0.0, 0.0, 0.0]  [0.0, 0.0, 1.0, 0.0]  [0.0, 0.0, 4.0, 0.0]       1   \n",
       "\n",
       "     race_index  pred_raw  \n",
       "240          69  0.039982  "
      ]
     },
     "execution_count": 35,
     "metadata": {},
     "output_type": "execute_result"
    }
   ],
   "source": [
    "df_test[df_test.winner.astype(bool)].sort_values('pred_raw').head(1)"
   ]
  },
  {
   "cell_type": "code",
   "execution_count": 36,
   "metadata": {},
   "outputs": [
    {
     "data": {
      "text/html": [
       "<div>\n",
       "<style scoped>\n",
       "    .dataframe tbody tr th:only-of-type {\n",
       "        vertical-align: middle;\n",
       "    }\n",
       "\n",
       "    .dataframe tbody tr th {\n",
       "        vertical-align: top;\n",
       "    }\n",
       "\n",
       "    .dataframe thead th {\n",
       "        text-align: right;\n",
       "    }\n",
       "</style>\n",
       "<table border=\"1\" class=\"dataframe\">\n",
       "  <thead>\n",
       "    <tr style=\"text-align: right;\">\n",
       "      <th></th>\n",
       "      <th>candidate</th>\n",
       "      <th>tweets</th>\n",
       "      <th>replies</th>\n",
       "      <th>retweets</th>\n",
       "      <th>favorites</th>\n",
       "      <th>winner</th>\n",
       "      <th>race_index</th>\n",
       "      <th>pred_raw</th>\n",
       "    </tr>\n",
       "  </thead>\n",
       "  <tbody>\n",
       "    <tr>\n",
       "      <th>240</th>\n",
       "      <td>Jason T. Smith</td>\n",
       "      <td>[\\nEver ask \"Why ain't my SH*T selling?\" Join ...</td>\n",
       "      <td>[0.0, 0.0, 0.0, 0.0]</td>\n",
       "      <td>[0.0, 0.0, 1.0, 0.0]</td>\n",
       "      <td>[0.0, 0.0, 4.0, 0.0]</td>\n",
       "      <td>1</td>\n",
       "      <td>69</td>\n",
       "      <td>0.039982</td>\n",
       "    </tr>\n",
       "    <tr>\n",
       "      <th>241</th>\n",
       "      <td>Dave Cowell</td>\n",
       "      <td>[\\nJust so happens the person who runs Armatur...</td>\n",
       "      <td>[0.0, 0.0, 1.0, 0.0, 0.0, 3.0, 0.0, 0.0, 0.0, ...</td>\n",
       "      <td>[0.0, 0.0, 0.0, 1.0, 0.0, 8.0, 0.0, 1.0, 0.0, ...</td>\n",
       "      <td>[1.0, 2.0, 1.0, 3.0, 0.0, 21.0, 2.0, 2.0, 1.0,...</td>\n",
       "      <td>0</td>\n",
       "      <td>69</td>\n",
       "      <td>0.051360</td>\n",
       "    </tr>\n",
       "    <tr>\n",
       "      <th>242</th>\n",
       "      <td>Jonathan Shell</td>\n",
       "      <td>[]</td>\n",
       "      <td>[]</td>\n",
       "      <td>[]</td>\n",
       "      <td>[]</td>\n",
       "      <td>0</td>\n",
       "      <td>69</td>\n",
       "      <td>0.040377</td>\n",
       "    </tr>\n",
       "  </tbody>\n",
       "</table>\n",
       "</div>"
      ],
      "text/plain": [
       "          candidate                                             tweets  \\\n",
       "240  Jason T. Smith  [\\nEver ask \"Why ain't my SH*T selling?\" Join ...   \n",
       "241     Dave Cowell  [\\nJust so happens the person who runs Armatur...   \n",
       "242  Jonathan Shell                                                 []   \n",
       "\n",
       "                                               replies  \\\n",
       "240                               [0.0, 0.0, 0.0, 0.0]   \n",
       "241  [0.0, 0.0, 1.0, 0.0, 0.0, 3.0, 0.0, 0.0, 0.0, ...   \n",
       "242                                                 []   \n",
       "\n",
       "                                              retweets  \\\n",
       "240                               [0.0, 0.0, 1.0, 0.0]   \n",
       "241  [0.0, 0.0, 0.0, 1.0, 0.0, 8.0, 0.0, 1.0, 0.0, ...   \n",
       "242                                                 []   \n",
       "\n",
       "                                             favorites  winner  race_index  \\\n",
       "240                               [0.0, 0.0, 4.0, 0.0]       1          69   \n",
       "241  [1.0, 2.0, 1.0, 3.0, 0.0, 21.0, 2.0, 2.0, 1.0,...       0          69   \n",
       "242                                                 []       0          69   \n",
       "\n",
       "     pred_raw  \n",
       "240  0.039982  \n",
       "241  0.051360  \n",
       "242  0.040377  "
      ]
     },
     "execution_count": 36,
     "metadata": {},
     "output_type": "execute_result"
    }
   ],
   "source": [
    "## this race\n",
    "df_test[df_test.race_index==69]"
   ]
  },
  {
   "cell_type": "code",
   "execution_count": 37,
   "metadata": {
    "scrolled": true
   },
   "outputs": [
    {
     "name": "stdout",
     "output_type": "stream",
     "text": [
      "Race                                              Missouri 8\n",
      "Result     [[\"Jason T. Smith\", \"Republican\", 74.4], [\"Dav...\n",
      "Chamber                                                House\n",
      "winner                                        Jason T. Smith\n",
      "Name: 69, dtype: object\n",
      "[[\"Jason T. Smith\", \"Republican\", 74.4], [\"Dave Cowell\", \"Democratic\", 22.7], [\"Jonathan Shell\", \"Libertarian\", 2.9]]\n"
     ]
    }
   ],
   "source": [
    "print(race_metadata_2016.loc[69])\n",
    "print(race_metadata_2016.loc[69].Result)"
   ]
  },
  {
   "cell_type": "markdown",
   "metadata": {},
   "source": [
    "This one makes more sense to me - \"Jason T. Smith\" is what I have as the candidate's name (from Wikipedia). Since twitter search looks for an exact string match, it makes sense that the model would not have a good read on this candidate since it's unlikely for people to tweet a name with a middle initial."
   ]
  },
  {
   "cell_type": "markdown",
   "metadata": {},
   "source": [
    "Stay tuned: as a next step, I plan to collect the tweets for the month leading up to the 2018 congressional races and post my predictions on election day."
   ]
  }
 ],
 "metadata": {
  "kernelspec": {
   "display_name": "Python 3",
   "language": "python",
   "name": "python3"
  },
  "language_info": {
   "codemirror_mode": {
    "name": "ipython",
    "version": 3
   },
   "file_extension": ".py",
   "mimetype": "text/x-python",
   "name": "python",
   "nbconvert_exporter": "python",
   "pygments_lexer": "ipython3",
   "version": "3.6.3"
  }
 },
 "nbformat": 4,
 "nbformat_minor": 2
}
