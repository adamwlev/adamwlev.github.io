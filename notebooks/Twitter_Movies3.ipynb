{
 "cells": [
  {
   "cell_type": "markdown",
   "metadata": {},
   "source": [
    "Can we create a model to predict the opening weekend box office success of a movie using tweets? Theoretically, it seems like it should be possible. A lot of people tweeting about a movie should indicate that it will be successful. Practically, is it possible to abstract meaning from data that is seemingly so noisy?\n",
    "\n",
    "It seems daunting considering that with a simple strategy there will be plenty of instances where tweets are considered that are not even about the movie in question. For example, when you search for the movie 'Wild (2014)', you get some results like this: "
   ]
  },
  {
   "cell_type": "markdown",
   "metadata": {},
   "source": [
    "I was undaunted by this challenge and dove straight in. In the end, without doing anything too sophisticated, I was able to produce a fairly decent model."
   ]
  },
  {
   "cell_type": "markdown",
   "metadata": {},
   "source": [
    "### Obtaining the Box Office Data"
   ]
  },
  {
   "cell_type": "markdown",
   "metadata": {},
   "source": [
    "I obtained data from boxofficemojo.com using the requests library and parsed it using BeautifulSoup4. I specifically worked with [this](http://www.boxofficemojo.com/alltime/weekends/) data which is all Domestic (U.S.) movies which have revenue data for a Friday-Saturday-Sunday opening weekends. I grabbed the first 1000 from this list sorted by date with recent first. I made this decision based on the [fact](http://www.internetlivestats.com/twitter-statistics/) that Twitter's popularity has grown extreemly rapidly. I made the judgment that by around late 2009 there were been enough tweets to predict the success of a movie."
   ]
  },
  {
   "cell_type": "markdown",
   "metadata": {},
   "source": [
    "### Obtaining the Twitter Data"
   ]
  },
  {
   "cell_type": "markdown",
   "metadata": {},
   "source": [
    "I used Selenium to crawl [Twitter's Advanced Search Engine](https://twitter.com/search-advanced) and get the data. Using the API was out of the questions since the API only has tweets from the last 7 days. Scraping was a challenge because of the 'infinite scroll' feature of this site.\n",
    "\n",
    "I used the 'This exact phrase' box for searching. Also, I did a little processing to the movies' titles. To avoid penalizing movies with long titles I stripped all years in parenthesis and subtitles. So for \"Precious: Based on the Novel 'Push' by Sapphire\" I searched for 'Precious'.\n",
    "\n",
    "\n",
    "Because of time and resourse contraints (still working on my Linux skills for AWS) I constrained my data to tweets from the week before the opening of the movie. \n",
    "\n",
    "If I made one search for each movie with the date range set to the whole week, I typically obtained a never ending stream of tweets from the first couple days before the opening. To try to capture the difference in volume of tweets across movies, I did 7 seperate searches - a day is as granular of a window you can search for - and told Selenium to scroll down the page at most 25 times for each search.\n",
    "\n",
    "I ended up collecting data for 826 of the 1000 movies that I pulled from boxofficemojo."
   ]
  },
  {
   "cell_type": "markdown",
   "metadata": {},
   "source": [
    "### A little cleaning"
   ]
  },
  {
   "cell_type": "markdown",
   "metadata": {},
   "source": [
    "I want to focus on the modeling decisions with this post so I will skip to the point in which I aggregated all the data into one nice looking csv file."
   ]
  },
  {
   "cell_type": "code",
   "execution_count": 1,
   "metadata": {
    "collapsed": true
   },
   "outputs": [],
   "source": [
    "import pandas as pd\n",
    "pd.set_option('display.max_columns',None)"
   ]
  },
  {
   "cell_type": "code",
   "execution_count": 2,
   "metadata": {
    "collapsed": true
   },
   "outputs": [],
   "source": [
    "data = pd.read_csv('./../data/TwitterMovies/all_the_data.csv')"
   ]
  },
  {
   "cell_type": "code",
   "execution_count": 3,
   "metadata": {
    "collapsed": false
   },
   "outputs": [
    {
     "data": {
      "text/plain": [
       "(826, 7)"
      ]
     },
     "execution_count": 3,
     "metadata": {},
     "output_type": "execute_result"
    }
   ],
   "source": [
    "data.shape"
   ]
  },
  {
   "cell_type": "markdown",
   "metadata": {},
   "source": [
    "Most recent data point:"
   ]
  },
  {
   "cell_type": "code",
   "execution_count": 4,
   "metadata": {
    "collapsed": false,
    "scrolled": false
   },
   "outputs": [
    {
     "data": {
      "text/html": [
       "<div>\n",
       "<table border=\"1\" class=\"dataframe\">\n",
       "  <thead>\n",
       "    <tr style=\"text-align: right;\">\n",
       "      <th></th>\n",
       "      <th>title</th>\n",
       "      <th>opening_wknd</th>\n",
       "      <th>opening_date</th>\n",
       "      <th>Num_Tweets</th>\n",
       "      <th>Retweets</th>\n",
       "      <th>Likes</th>\n",
       "      <th>Text</th>\n",
       "    </tr>\n",
       "  </thead>\n",
       "  <tbody>\n",
       "    <tr>\n",
       "      <th>0</th>\n",
       "      <td>The Legend of Tarzan</td>\n",
       "      <td>38527856</td>\n",
       "      <td>2016-07-01</td>\n",
       "      <td>1850</td>\n",
       "      <td>1-5-4-4-2-1-2-1-1-4-2-1-1-3-1-1-1-1-2-1-2-1-3-...</td>\n",
       "      <td>5-7-3-3-4-4-2-1-1-1-6-12-2-1-2-7-1-1-1-1-4-1-1...</td>\n",
       "      <td>Yelp Night at the Movies: The Legend of Tarzan...</td>\n",
       "    </tr>\n",
       "  </tbody>\n",
       "</table>\n",
       "</div>"
      ],
      "text/plain": [
       "                  title  opening_wknd opening_date  Num_Tweets  \\\n",
       "0  The Legend of Tarzan      38527856   2016-07-01        1850   \n",
       "\n",
       "                                            Retweets  \\\n",
       "0  1-5-4-4-2-1-2-1-1-4-2-1-1-3-1-1-1-1-2-1-2-1-3-...   \n",
       "\n",
       "                                               Likes  \\\n",
       "0  5-7-3-3-4-4-2-1-1-1-6-12-2-1-2-7-1-1-1-1-4-1-1...   \n",
       "\n",
       "                                                Text  \n",
       "0  Yelp Night at the Movies: The Legend of Tarzan...  "
      ]
     },
     "execution_count": 4,
     "metadata": {},
     "output_type": "execute_result"
    }
   ],
   "source": [
    "data.head(1)"
   ]
  },
  {
   "cell_type": "markdown",
   "metadata": {},
   "source": [
    "Least recent data point:"
   ]
  },
  {
   "cell_type": "code",
   "execution_count": 5,
   "metadata": {
    "collapsed": false
   },
   "outputs": [
    {
     "data": {
      "text/html": [
       "<div>\n",
       "<table border=\"1\" class=\"dataframe\">\n",
       "  <thead>\n",
       "    <tr style=\"text-align: right;\">\n",
       "      <th></th>\n",
       "      <th>title</th>\n",
       "      <th>opening_wknd</th>\n",
       "      <th>opening_date</th>\n",
       "      <th>Num_Tweets</th>\n",
       "      <th>Retweets</th>\n",
       "      <th>Likes</th>\n",
       "      <th>Text</th>\n",
       "    </tr>\n",
       "  </thead>\n",
       "  <tbody>\n",
       "    <tr>\n",
       "      <th>825</th>\n",
       "      <td>Where the Wild Things Are</td>\n",
       "      <td>32695407</td>\n",
       "      <td>2009-10-16</td>\n",
       "      <td>3127</td>\n",
       "      <td>1-9</td>\n",
       "      <td>3-1-1-1-1-1-1-3-5-1-3-1-1-1-2-3-1-1-1-3-1-2-98...</td>\n",
       "      <td>Notes From Mymix: Where the Wild Things Are, J...</td>\n",
       "    </tr>\n",
       "  </tbody>\n",
       "</table>\n",
       "</div>"
      ],
      "text/plain": [
       "                         title  opening_wknd opening_date  Num_Tweets  \\\n",
       "825  Where the Wild Things Are      32695407   2009-10-16        3127   \n",
       "\n",
       "    Retweets                                              Likes  \\\n",
       "825      1-9  3-1-1-1-1-1-1-3-5-1-3-1-1-1-2-3-1-1-1-3-1-2-98...   \n",
       "\n",
       "                                                  Text  \n",
       "825  Notes From Mymix: Where the Wild Things Are, J...  "
      ]
     },
     "execution_count": 5,
     "metadata": {},
     "output_type": "execute_result"
    }
   ],
   "source": [
    "data.tail(1)"
   ]
  },
  {
   "cell_type": "markdown",
   "metadata": {},
   "source": [
    "What the hell are all those columns you might ask. Well opening_wknd is the opening weekend gross which has not been adjusted for inflation. Retweets is currently a string that has the number of Retweets for each tweet that had *any* Retweets joined with a dash. Likes is the same except for Likes. And Text is a massive document of text from all the tweets that were obtained about the particular movie."
   ]
  },
  {
   "cell_type": "markdown",
   "metadata": {},
   "source": [
    "Here's a sample of text:"
   ]
  },
  {
   "cell_type": "code",
   "execution_count": 6,
   "metadata": {
    "collapsed": false
   },
   "outputs": [
    {
     "data": {
      "text/plain": [
       "'Yelp Night at the Movies: The Legend of Tarzan RSVP on the Yelp event page to get tickets  http://ift.tt/28SVLUnpic.twitter.com/7e7XUEMEho New video I'"
      ]
     },
     "execution_count": 6,
     "metadata": {},
     "output_type": "execute_result"
    }
   ],
   "source": [
    "data.iloc[0].Text[0:150]"
   ]
  },
  {
   "cell_type": "markdown",
   "metadata": {},
   "source": [
    "Number of characters in this particular document:"
   ]
  },
  {
   "cell_type": "code",
   "execution_count": 7,
   "metadata": {
    "collapsed": false
   },
   "outputs": [
    {
     "data": {
      "text/plain": [
       "225296"
      ]
     },
     "execution_count": 7,
     "metadata": {},
     "output_type": "execute_result"
    }
   ],
   "source": [
    "len(data.iloc[0].Text)"
   ]
  },
  {
   "cell_type": "markdown",
   "metadata": {},
   "source": [
    "Alright, now, let's get the boring stuff out of the way. Let's get the Retweets and Likes into a more usable form."
   ]
  },
  {
   "cell_type": "code",
   "execution_count": 8,
   "metadata": {
    "collapsed": true
   },
   "outputs": [],
   "source": [
    "import re"
   ]
  },
  {
   "cell_type": "code",
   "execution_count": 9,
   "metadata": {
    "collapsed": true
   },
   "outputs": [],
   "source": [
    "pattern = '[0-9]'\n",
    "regex = re.compile(pattern)"
   ]
  },
  {
   "cell_type": "code",
   "execution_count": 10,
   "metadata": {
    "collapsed": true
   },
   "outputs": [],
   "source": [
    "data.Retweets = [[0]*(num_tweets-len([c for c in str(ret) if re.match(regex,c)])) + map(int,[c for c in str(ret) if re.match(regex,c)]) for ret,num_tweets in zip(data.Retweets,data.Num_Tweets)]"
   ]
  },
  {
   "cell_type": "code",
   "execution_count": 11,
   "metadata": {
    "collapsed": true
   },
   "outputs": [],
   "source": [
    "data.Likes = [[0]*(num_tweets-len([c for c in str(lik) if re.match(regex,c)])) + map(int,[c for c in str(lik) if re.match(regex,c)]) for lik,num_tweets in zip(data.Likes,data.Num_Tweets)]"
   ]
  },
  {
   "cell_type": "code",
   "execution_count": 12,
   "metadata": {
    "collapsed": false
   },
   "outputs": [
    {
     "data": {
      "text/html": [
       "<div>\n",
       "<table border=\"1\" class=\"dataframe\">\n",
       "  <thead>\n",
       "    <tr style=\"text-align: right;\">\n",
       "      <th></th>\n",
       "      <th>title</th>\n",
       "      <th>opening_wknd</th>\n",
       "      <th>opening_date</th>\n",
       "      <th>Num_Tweets</th>\n",
       "      <th>Retweets</th>\n",
       "      <th>Likes</th>\n",
       "      <th>Text</th>\n",
       "    </tr>\n",
       "  </thead>\n",
       "  <tbody>\n",
       "    <tr>\n",
       "      <th>0</th>\n",
       "      <td>The Legend of Tarzan</td>\n",
       "      <td>38527856</td>\n",
       "      <td>2016-07-01</td>\n",
       "      <td>1850</td>\n",
       "      <td>[0, 0, 0, 0, 0, 0, 0, 0, 0, 0, 0, 0, 0, 0, 0, ...</td>\n",
       "      <td>[0, 0, 0, 0, 0, 0, 0, 0, 0, 0, 0, 0, 0, 0, 0, ...</td>\n",
       "      <td>Yelp Night at the Movies: The Legend of Tarzan...</td>\n",
       "    </tr>\n",
       "  </tbody>\n",
       "</table>\n",
       "</div>"
      ],
      "text/plain": [
       "                  title  opening_wknd opening_date  Num_Tweets  \\\n",
       "0  The Legend of Tarzan      38527856   2016-07-01        1850   \n",
       "\n",
       "                                            Retweets  \\\n",
       "0  [0, 0, 0, 0, 0, 0, 0, 0, 0, 0, 0, 0, 0, 0, 0, ...   \n",
       "\n",
       "                                               Likes  \\\n",
       "0  [0, 0, 0, 0, 0, 0, 0, 0, 0, 0, 0, 0, 0, 0, 0, ...   \n",
       "\n",
       "                                                Text  \n",
       "0  Yelp Night at the Movies: The Legend of Tarzan...  "
      ]
     },
     "execution_count": 12,
     "metadata": {},
     "output_type": "execute_result"
    }
   ],
   "source": [
    "data.head(1)"
   ]
  },
  {
   "cell_type": "markdown",
   "metadata": {},
   "source": [
    "Now let's purge the Text data of all links and Twitter handles."
   ]
  },
  {
   "cell_type": "code",
   "execution_count": 13,
   "metadata": {
    "collapsed": true
   },
   "outputs": [],
   "source": [
    "def cleanse_doc(doc):\n",
    "    return ' '.join([word for word in doc.split() \n",
    "                     if 'http://' not in word and 'www.' not in word\n",
    "                     and '@' not in word and 'https://' not in word\n",
    "                     and '.com' not in word and '.net' not in word])"
   ]
  },
  {
   "cell_type": "code",
   "execution_count": 14,
   "metadata": {
    "collapsed": false
   },
   "outputs": [],
   "source": [
    "data.Text = [cleanse_doc(doc) for doc in data.Text]"
   ]
  },
  {
   "cell_type": "code",
   "execution_count": 15,
   "metadata": {
    "collapsed": false
   },
   "outputs": [
    {
     "data": {
      "text/plain": [
       "'Yelp Night at the Movies: The Legend of Tarzan RSVP on the Yelp event page to get tickets New video Interviews with Alexander Skarsgrd & the stars of '"
      ]
     },
     "execution_count": 15,
     "metadata": {},
     "output_type": "execute_result"
    }
   ],
   "source": [
    "data.iloc[0].Text[0:150]"
   ]
  },
  {
   "cell_type": "markdown",
   "metadata": {},
   "source": [
    "One more boring but necessary step: adjust the revenue numbers for inflation. Since I have less than 7 years of data, I make the simplifying assumption that there has been a constant rate of inflation of this period (12% in total)."
   ]
  },
  {
   "cell_type": "code",
   "execution_count": 16,
   "metadata": {
    "collapsed": true
   },
   "outputs": [],
   "source": [
    "from datetime import date"
   ]
  },
  {
   "cell_type": "code",
   "execution_count": 17,
   "metadata": {
    "collapsed": true
   },
   "outputs": [],
   "source": [
    "def inflation_adjuster(dates,gross):\n",
    "    inf_rate = .12/7.0\n",
    "    dates = [date(*map(int,d.split('-'))) for d in dates]\n",
    "    base = min(dates)\n",
    "    today = max(dates)\n",
    "    return [g * (1+inf_rate)**((today-base).days/365.0) / \\\n",
    "     (1+inf_rate)**((d-base).days/365.0) for d,g in zip(dates,gross)]"
   ]
  },
  {
   "cell_type": "code",
   "execution_count": 18,
   "metadata": {
    "collapsed": true
   },
   "outputs": [],
   "source": [
    "data.opening_wknd = inflation_adjuster(data.opening_date,data.opening_wknd)"
   ]
  },
  {
   "cell_type": "code",
   "execution_count": 19,
   "metadata": {
    "collapsed": false
   },
   "outputs": [
    {
     "data": {
      "text/html": [
       "<div>\n",
       "<table border=\"1\" class=\"dataframe\">\n",
       "  <thead>\n",
       "    <tr style=\"text-align: right;\">\n",
       "      <th></th>\n",
       "      <th>title</th>\n",
       "      <th>opening_wknd</th>\n",
       "      <th>opening_date</th>\n",
       "      <th>Num_Tweets</th>\n",
       "      <th>Retweets</th>\n",
       "      <th>Likes</th>\n",
       "      <th>Text</th>\n",
       "    </tr>\n",
       "  </thead>\n",
       "  <tbody>\n",
       "    <tr>\n",
       "      <th>825</th>\n",
       "      <td>Where the Wild Things Are</td>\n",
       "      <td>3.664687e+07</td>\n",
       "      <td>2009-10-16</td>\n",
       "      <td>3127</td>\n",
       "      <td>[0, 0, 0, 0, 0, 0, 0, 0, 0, 0, 0, 0, 0, 0, 0, ...</td>\n",
       "      <td>[0, 0, 0, 0, 0, 0, 0, 0, 0, 0, 0, 0, 0, 0, 0, ...</td>\n",
       "      <td>Notes From Mymix: Where the Wild Things Are, J...</td>\n",
       "    </tr>\n",
       "  </tbody>\n",
       "</table>\n",
       "</div>"
      ],
      "text/plain": [
       "                         title  opening_wknd opening_date  Num_Tweets  \\\n",
       "825  Where the Wild Things Are  3.664687e+07   2009-10-16        3127   \n",
       "\n",
       "                                              Retweets  \\\n",
       "825  [0, 0, 0, 0, 0, 0, 0, 0, 0, 0, 0, 0, 0, 0, 0, ...   \n",
       "\n",
       "                                                 Likes  \\\n",
       "825  [0, 0, 0, 0, 0, 0, 0, 0, 0, 0, 0, 0, 0, 0, 0, ...   \n",
       "\n",
       "                                                  Text  \n",
       "825  Notes From Mymix: Where the Wild Things Are, J...  "
      ]
     },
     "execution_count": 19,
     "metadata": {},
     "output_type": "execute_result"
    }
   ],
   "source": [
    "data.tail(1)"
   ]
  },
  {
   "cell_type": "markdown",
   "metadata": {},
   "source": [
    "### Feature Engineering"
   ]
  },
  {
   "cell_type": "markdown",
   "metadata": {},
   "source": [
    "Since the volume of Twitter data has increased so much during the last 7 years, including the time as a feature and looking at interactions will be essential."
   ]
  },
  {
   "cell_type": "code",
   "execution_count": 20,
   "metadata": {
    "collapsed": true
   },
   "outputs": [],
   "source": [
    "data.insert(1,'days from today',[(date(2016,7,15) - date(*map(int,d.split('-')))).days for d in data.opening_date])"
   ]
  },
  {
   "cell_type": "code",
   "execution_count": 21,
   "metadata": {
    "collapsed": false
   },
   "outputs": [
    {
     "data": {
      "text/html": [
       "<div>\n",
       "<table border=\"1\" class=\"dataframe\">\n",
       "  <thead>\n",
       "    <tr style=\"text-align: right;\">\n",
       "      <th></th>\n",
       "      <th>title</th>\n",
       "      <th>days from today</th>\n",
       "      <th>opening_wknd</th>\n",
       "      <th>opening_date</th>\n",
       "      <th>Num_Tweets</th>\n",
       "      <th>Retweets</th>\n",
       "      <th>Likes</th>\n",
       "      <th>Text</th>\n",
       "    </tr>\n",
       "  </thead>\n",
       "  <tbody>\n",
       "    <tr>\n",
       "      <th>0</th>\n",
       "      <td>The Legend of Tarzan</td>\n",
       "      <td>14</td>\n",
       "      <td>38527856.0</td>\n",
       "      <td>2016-07-01</td>\n",
       "      <td>1850</td>\n",
       "      <td>[0, 0, 0, 0, 0, 0, 0, 0, 0, 0, 0, 0, 0, 0, 0, ...</td>\n",
       "      <td>[0, 0, 0, 0, 0, 0, 0, 0, 0, 0, 0, 0, 0, 0, 0, ...</td>\n",
       "      <td>Yelp Night at the Movies: The Legend of Tarzan...</td>\n",
       "    </tr>\n",
       "  </tbody>\n",
       "</table>\n",
       "</div>"
      ],
      "text/plain": [
       "                  title  days from today  opening_wknd opening_date  \\\n",
       "0  The Legend of Tarzan               14    38527856.0   2016-07-01   \n",
       "\n",
       "   Num_Tweets                                           Retweets  \\\n",
       "0        1850  [0, 0, 0, 0, 0, 0, 0, 0, 0, 0, 0, 0, 0, 0, 0, ...   \n",
       "\n",
       "                                               Likes  \\\n",
       "0  [0, 0, 0, 0, 0, 0, 0, 0, 0, 0, 0, 0, 0, 0, 0, ...   \n",
       "\n",
       "                                                Text  \n",
       "0  Yelp Night at the Movies: The Legend of Tarzan...  "
      ]
     },
     "execution_count": 21,
     "metadata": {},
     "output_type": "execute_result"
    }
   ],
   "source": [
    "data.head(1)"
   ]
  },
  {
   "cell_type": "markdown",
   "metadata": {},
   "source": [
    "Now, I don't quite know what summary statistics of the Retweets and Likes I should include. So, I'll just include a whole bunch and allow my model to do this work for me."
   ]
  },
  {
   "cell_type": "code",
   "execution_count": 22,
   "metadata": {
    "collapsed": true
   },
   "outputs": [],
   "source": [
    "import numpy as np"
   ]
  },
  {
   "cell_type": "code",
   "execution_count": 23,
   "metadata": {
    "collapsed": true
   },
   "outputs": [],
   "source": [
    "def trimmed_mean(t):\n",
    "    t = np.array(t)\n",
    "    iqr = np.percentile(t,75) - np.percentile(t,25)\n",
    "    med = np.median(t)\n",
    "    t = t[np.where((t>=(med-1.5*iqr)) & (t<=(med+1.5*iqr)))]\n",
    "    return np.mean(t)"
   ]
  },
  {
   "cell_type": "code",
   "execution_count": 24,
   "metadata": {
    "collapsed": true
   },
   "outputs": [],
   "source": [
    "data.insert(5,'Total_Retweets',[sum(ret) for ret in data.Retweets])\n",
    "data.insert(6,'Median_Retweets',[np.median(ret) for ret in data.Retweets])\n",
    "data.insert(7,'Mean_Retweets',data.Total_Retweets/data.Num_Tweets)\n",
    "data.insert(8,'Trimmed_Mean_Retweets',[trimmed_mean(ret) for ret in data.Retweets])\n",
    "data.insert(9,'90th_Percentile_Retweets',[np.percentile(ret,90) for ret in data.Retweets])\n",
    "data.insert(10,'95th_Percentile_Retweets',[np.percentile(ret,95) for ret in data.Retweets])\n",
    "data.insert(11,'98th_Percentile_Retweets',[np.percentile(ret,98) for ret in data.Retweets])\n",
    "data.insert(12,'99th_Percentile_Retweets',[np.percentile(ret,99) for ret in data.Retweets])\n",
    "data.insert(13,'99.5th_Percentile_Retweets',[np.percentile(ret,99.5) for ret in data.Retweets])\n",
    "data.insert(14,'Max_Retweets',[max(ret) for ret in data.Retweets])"
   ]
  },
  {
   "cell_type": "code",
   "execution_count": 25,
   "metadata": {
    "collapsed": true
   },
   "outputs": [],
   "source": [
    "data.insert(16,'Total_Likes',[sum(lik) for lik in data.Likes])\n",
    "data.insert(17,'Median_Likes',[np.median(lik) for lik in data.Likes])\n",
    "data.insert(18,'Mean_Likes',data.Total_Likes/data.Num_Tweets)\n",
    "data.insert(19,'Trimmed_Mean_Likes',[trimmed_mean(lik) for lik in data.Likes])\n",
    "data.insert(20,'90th_Percentile_Likes',[np.percentile(lik,90) for lik in data.Likes])\n",
    "data.insert(21,'95th_Percentile_Likes',[np.percentile(lik,95) for lik in data.Likes])\n",
    "data.insert(22,'98th_Percentile_Likes',[np.percentile(lik,98) for lik in data.Likes])\n",
    "data.insert(23,'99th_Percentile_Likes',[np.percentile(lik,99) for lik in data.Likes])\n",
    "data.insert(24,'99.5th_Percentile_Likes',[np.percentile(lik,99.5) for lik in data.Likes])\n",
    "data.insert(25,'Max_Likes',[max(lik) for lik in data.Likes])"
   ]
  },
  {
   "cell_type": "code",
   "execution_count": 26,
   "metadata": {
    "collapsed": false
   },
   "outputs": [
    {
     "data": {
      "text/html": [
       "<div>\n",
       "<table border=\"1\" class=\"dataframe\">\n",
       "  <thead>\n",
       "    <tr style=\"text-align: right;\">\n",
       "      <th></th>\n",
       "      <th>title</th>\n",
       "      <th>days from today</th>\n",
       "      <th>opening_wknd</th>\n",
       "      <th>opening_date</th>\n",
       "      <th>Num_Tweets</th>\n",
       "      <th>Total_Retweets</th>\n",
       "      <th>Median_Retweets</th>\n",
       "      <th>Mean_Retweets</th>\n",
       "      <th>Trimmed_Mean_Retweets</th>\n",
       "      <th>90th_Percentile_Retweets</th>\n",
       "      <th>95th_Percentile_Retweets</th>\n",
       "      <th>98th_Percentile_Retweets</th>\n",
       "      <th>99th_Percentile_Retweets</th>\n",
       "      <th>99.5th_Percentile_Retweets</th>\n",
       "      <th>Max_Retweets</th>\n",
       "      <th>Retweets</th>\n",
       "      <th>Total_Likes</th>\n",
       "      <th>Median_Likes</th>\n",
       "      <th>Mean_Likes</th>\n",
       "      <th>Trimmed_Mean_Likes</th>\n",
       "      <th>90th_Percentile_Likes</th>\n",
       "      <th>95th_Percentile_Likes</th>\n",
       "      <th>98th_Percentile_Likes</th>\n",
       "      <th>99th_Percentile_Likes</th>\n",
       "      <th>99.5th_Percentile_Likes</th>\n",
       "      <th>Max_Likes</th>\n",
       "      <th>Likes</th>\n",
       "      <th>Text</th>\n",
       "    </tr>\n",
       "  </thead>\n",
       "  <tbody>\n",
       "    <tr>\n",
       "      <th>0</th>\n",
       "      <td>The Legend of Tarzan</td>\n",
       "      <td>14</td>\n",
       "      <td>38527856.0</td>\n",
       "      <td>2016-07-01</td>\n",
       "      <td>1850</td>\n",
       "      <td>696</td>\n",
       "      <td>0.0</td>\n",
       "      <td>0.376216</td>\n",
       "      <td>0.0</td>\n",
       "      <td>1.0</td>\n",
       "      <td>2.0</td>\n",
       "      <td>4.0</td>\n",
       "      <td>6.0</td>\n",
       "      <td>8.0</td>\n",
       "      <td>9</td>\n",
       "      <td>[0, 0, 0, 0, 0, 0, 0, 0, 0, 0, 0, 0, 0, 0, 0, ...</td>\n",
       "      <td>1427</td>\n",
       "      <td>0.0</td>\n",
       "      <td>0.771351</td>\n",
       "      <td>0.200129</td>\n",
       "      <td>2.0</td>\n",
       "      <td>4.0</td>\n",
       "      <td>7.0</td>\n",
       "      <td>8.0</td>\n",
       "      <td>8.0</td>\n",
       "      <td>9</td>\n",
       "      <td>[0, 0, 0, 0, 0, 0, 0, 0, 0, 0, 0, 0, 0, 0, 0, ...</td>\n",
       "      <td>Yelp Night at the Movies: The Legend of Tarzan...</td>\n",
       "    </tr>\n",
       "  </tbody>\n",
       "</table>\n",
       "</div>"
      ],
      "text/plain": [
       "                  title  days from today  opening_wknd opening_date  \\\n",
       "0  The Legend of Tarzan               14    38527856.0   2016-07-01   \n",
       "\n",
       "   Num_Tweets  Total_Retweets  Median_Retweets  Mean_Retweets  \\\n",
       "0        1850             696              0.0       0.376216   \n",
       "\n",
       "   Trimmed_Mean_Retweets  90th_Percentile_Retweets  95th_Percentile_Retweets  \\\n",
       "0                    0.0                       1.0                       2.0   \n",
       "\n",
       "   98th_Percentile_Retweets  99th_Percentile_Retweets  \\\n",
       "0                       4.0                       6.0   \n",
       "\n",
       "   99.5th_Percentile_Retweets  Max_Retweets  \\\n",
       "0                         8.0             9   \n",
       "\n",
       "                                            Retweets  Total_Likes  \\\n",
       "0  [0, 0, 0, 0, 0, 0, 0, 0, 0, 0, 0, 0, 0, 0, 0, ...         1427   \n",
       "\n",
       "   Median_Likes  Mean_Likes  Trimmed_Mean_Likes  90th_Percentile_Likes  \\\n",
       "0           0.0    0.771351            0.200129                    2.0   \n",
       "\n",
       "   95th_Percentile_Likes  98th_Percentile_Likes  99th_Percentile_Likes  \\\n",
       "0                    4.0                    7.0                    8.0   \n",
       "\n",
       "   99.5th_Percentile_Likes  Max_Likes  \\\n",
       "0                      8.0          9   \n",
       "\n",
       "                                               Likes  \\\n",
       "0  [0, 0, 0, 0, 0, 0, 0, 0, 0, 0, 0, 0, 0, 0, 0, ...   \n",
       "\n",
       "                                                Text  \n",
       "0  Yelp Night at the Movies: The Legend of Tarzan...  "
      ]
     },
     "execution_count": 26,
     "metadata": {},
     "output_type": "execute_result"
    }
   ],
   "source": [
    "data.head(1)"
   ]
  },
  {
   "cell_type": "markdown",
   "metadata": {},
   "source": [
    "Now I'll use sklearn's TfidfVectorizer to convert my documents into text frequencies. I will use n-grams of lengths one, two, and three. In order to filter out some noise, I'm going to specify that for a feature to be made, the word or phrase must have been in at least 20% of the documents."
   ]
  },
  {
   "cell_type": "markdown",
   "metadata": {},
   "source": [
    "Also, from previous iterations, I learned that it is a good idea to tokenize the titles of the movies and include these tokens as stop words. The reason being that words that are in the titles of movies are considered to be some of the most important features in the Tf-idf world and including these words as features will make it more difficult for a model to pick out the truly generalizable word features."
   ]
  },
  {
   "cell_type": "markdown",
   "metadata": {},
   "source": [
    "If a token from the titles appears in at least 10% of the titles, I will allow it to be a feature. If not, it will be a stop word."
   ]
  },
  {
   "cell_type": "code",
   "execution_count": 27,
   "metadata": {
    "collapsed": true
   },
   "outputs": [],
   "source": [
    "from sklearn.feature_extraction.text import TfidfVectorizer\n",
    "from sklearn.feature_extraction.stop_words import ENGLISH_STOP_WORDS"
   ]
  },
  {
   "cell_type": "code",
   "execution_count": 28,
   "metadata": {
    "collapsed": true
   },
   "outputs": [],
   "source": [
    "titles = [title.lower() for title in data.title]"
   ]
  },
  {
   "cell_type": "code",
   "execution_count": 29,
   "metadata": {
    "collapsed": true
   },
   "outputs": [],
   "source": [
    "tfidf_titles = TfidfVectorizer(use_idf=True,stop_words=None,ngram_range=(1,3),max_df=.10)"
   ]
  },
  {
   "cell_type": "code",
   "execution_count": 30,
   "metadata": {
    "collapsed": true
   },
   "outputs": [],
   "source": [
    "tfidf_titles.fit_transform(titles);"
   ]
  },
  {
   "cell_type": "code",
   "execution_count": 31,
   "metadata": {
    "collapsed": false
   },
   "outputs": [],
   "source": [
    "stop_words = tfidf_titles.get_feature_names() + titles + list(ENGLISH_STOP_WORDS)\n",
    "tfidf = TfidfVectorizer(use_idf=True,stop_words=stop_words,ngram_range=(1,3),min_df=.20)"
   ]
  },
  {
   "cell_type": "code",
   "execution_count": 32,
   "metadata": {
    "collapsed": false
   },
   "outputs": [],
   "source": [
    "X_text = tfidf.fit_transform(data.Text).toarray()"
   ]
  },
  {
   "cell_type": "code",
   "execution_count": 33,
   "metadata": {
    "collapsed": false
   },
   "outputs": [
    {
     "data": {
      "text/plain": [
       "(826, 4089)"
      ]
     },
     "execution_count": 33,
     "metadata": {},
     "output_type": "execute_result"
    }
   ],
   "source": [
    "X_text.shape"
   ]
  },
  {
   "cell_type": "markdown",
   "metadata": {},
   "source": [
    "I'll save the names of the text features for later."
   ]
  },
  {
   "cell_type": "code",
   "execution_count": 34,
   "metadata": {
    "collapsed": false
   },
   "outputs": [],
   "source": [
    "d = tfidf.get_feature_names()"
   ]
  },
  {
   "cell_type": "markdown",
   "metadata": {},
   "source": [
    "### Modeling with just the Summary Statistics"
   ]
  },
  {
   "cell_type": "markdown",
   "metadata": {},
   "source": [
    "The first step will be to split the data into a train and test set. I'll use a 70%, 30% train, test split."
   ]
  },
  {
   "cell_type": "code",
   "execution_count": 35,
   "metadata": {
    "collapsed": true
   },
   "outputs": [],
   "source": [
    "np.random.seed(200)\n",
    "train_inds = np.random.choice(range(len(data)),int(.7*len(data)),replace=False)\n",
    "test_inds = [i for i in range(len(data)) if i not in train_inds]"
   ]
  },
  {
   "cell_type": "code",
   "execution_count": 36,
   "metadata": {
    "collapsed": true
   },
   "outputs": [],
   "source": [
    "y_train, y_test = data.opening_wknd[train_inds], data.opening_wknd[test_inds]"
   ]
  },
  {
   "cell_type": "code",
   "execution_count": 37,
   "metadata": {
    "collapsed": false
   },
   "outputs": [
    {
     "name": "stdout",
     "output_type": "stream",
     "text": [
      "Length of Training Set: 578. Length of Test Set: 248.\n"
     ]
    }
   ],
   "source": [
    "print 'Length of Training Set: %d.' % len(y_train),'Length of Test Set: %d.' % len(y_test)"
   ]
  },
  {
   "cell_type": "markdown",
   "metadata": {},
   "source": [
    "Since I have a suspicion that some of my features might be redundant, I'll use the Lasso to encourage sparcity."
   ]
  },
  {
   "cell_type": "code",
   "execution_count": 38,
   "metadata": {
    "collapsed": true
   },
   "outputs": [],
   "source": [
    "from sklearn.linear_model import LassoCV"
   ]
  },
  {
   "cell_type": "code",
   "execution_count": 39,
   "metadata": {
    "collapsed": false
   },
   "outputs": [],
   "source": [
    "lcv = LassoCV(n_alphas=100, fit_intercept=True, normalize=True, max_iter=1e7, cv=50, n_jobs=-1, random_state=3)"
   ]
  },
  {
   "cell_type": "code",
   "execution_count": 40,
   "metadata": {
    "collapsed": true
   },
   "outputs": [],
   "source": [
    "summary_stat_feature_inds = [1] + range(4,15) + range(16,26)\n",
    "X_summary_stat = data.iloc[:,summary_stat_feature_inds]"
   ]
  },
  {
   "cell_type": "code",
   "execution_count": 41,
   "metadata": {
    "collapsed": false,
    "scrolled": true
   },
   "outputs": [
    {
     "data": {
      "text/html": [
       "<div>\n",
       "<table border=\"1\" class=\"dataframe\">\n",
       "  <thead>\n",
       "    <tr style=\"text-align: right;\">\n",
       "      <th></th>\n",
       "      <th>days from today</th>\n",
       "      <th>Num_Tweets</th>\n",
       "      <th>Total_Retweets</th>\n",
       "      <th>Median_Retweets</th>\n",
       "      <th>Mean_Retweets</th>\n",
       "      <th>Trimmed_Mean_Retweets</th>\n",
       "      <th>90th_Percentile_Retweets</th>\n",
       "      <th>95th_Percentile_Retweets</th>\n",
       "      <th>98th_Percentile_Retweets</th>\n",
       "      <th>99th_Percentile_Retweets</th>\n",
       "      <th>99.5th_Percentile_Retweets</th>\n",
       "      <th>Max_Retweets</th>\n",
       "      <th>Total_Likes</th>\n",
       "      <th>Median_Likes</th>\n",
       "      <th>Mean_Likes</th>\n",
       "      <th>Trimmed_Mean_Likes</th>\n",
       "      <th>90th_Percentile_Likes</th>\n",
       "      <th>95th_Percentile_Likes</th>\n",
       "      <th>98th_Percentile_Likes</th>\n",
       "      <th>99th_Percentile_Likes</th>\n",
       "      <th>99.5th_Percentile_Likes</th>\n",
       "      <th>Max_Likes</th>\n",
       "    </tr>\n",
       "  </thead>\n",
       "  <tbody>\n",
       "    <tr>\n",
       "      <th>0</th>\n",
       "      <td>14</td>\n",
       "      <td>1850</td>\n",
       "      <td>696</td>\n",
       "      <td>0.0</td>\n",
       "      <td>0.376216</td>\n",
       "      <td>0.000000</td>\n",
       "      <td>1.0</td>\n",
       "      <td>2.0</td>\n",
       "      <td>4.0</td>\n",
       "      <td>6.0</td>\n",
       "      <td>8.0</td>\n",
       "      <td>9</td>\n",
       "      <td>1427</td>\n",
       "      <td>0.0</td>\n",
       "      <td>0.771351</td>\n",
       "      <td>0.200129</td>\n",
       "      <td>2.0</td>\n",
       "      <td>4.0</td>\n",
       "      <td>7.0</td>\n",
       "      <td>8.0</td>\n",
       "      <td>8.0</td>\n",
       "      <td>9</td>\n",
       "    </tr>\n",
       "    <tr>\n",
       "      <th>1</th>\n",
       "      <td>14</td>\n",
       "      <td>2831</td>\n",
       "      <td>2226</td>\n",
       "      <td>0.0</td>\n",
       "      <td>0.786295</td>\n",
       "      <td>0.171285</td>\n",
       "      <td>3.0</td>\n",
       "      <td>5.0</td>\n",
       "      <td>7.0</td>\n",
       "      <td>8.0</td>\n",
       "      <td>9.0</td>\n",
       "      <td>9</td>\n",
       "      <td>3048</td>\n",
       "      <td>0.0</td>\n",
       "      <td>1.076651</td>\n",
       "      <td>0.298001</td>\n",
       "      <td>3.0</td>\n",
       "      <td>5.0</td>\n",
       "      <td>7.0</td>\n",
       "      <td>8.0</td>\n",
       "      <td>9.0</td>\n",
       "      <td>9</td>\n",
       "    </tr>\n",
       "    <tr>\n",
       "      <th>2</th>\n",
       "      <td>14</td>\n",
       "      <td>2412</td>\n",
       "      <td>1096</td>\n",
       "      <td>0.0</td>\n",
       "      <td>0.454395</td>\n",
       "      <td>0.000000</td>\n",
       "      <td>1.0</td>\n",
       "      <td>3.0</td>\n",
       "      <td>5.0</td>\n",
       "      <td>7.0</td>\n",
       "      <td>8.0</td>\n",
       "      <td>9</td>\n",
       "      <td>4565</td>\n",
       "      <td>1.0</td>\n",
       "      <td>1.892620</td>\n",
       "      <td>1.446942</td>\n",
       "      <td>5.0</td>\n",
       "      <td>6.0</td>\n",
       "      <td>8.0</td>\n",
       "      <td>9.0</td>\n",
       "      <td>9.0</td>\n",
       "      <td>9</td>\n",
       "    </tr>\n",
       "  </tbody>\n",
       "</table>\n",
       "</div>"
      ],
      "text/plain": [
       "   days from today  Num_Tweets  Total_Retweets  Median_Retweets  \\\n",
       "0               14        1850             696              0.0   \n",
       "1               14        2831            2226              0.0   \n",
       "2               14        2412            1096              0.0   \n",
       "\n",
       "   Mean_Retweets  Trimmed_Mean_Retweets  90th_Percentile_Retweets  \\\n",
       "0       0.376216               0.000000                       1.0   \n",
       "1       0.786295               0.171285                       3.0   \n",
       "2       0.454395               0.000000                       1.0   \n",
       "\n",
       "   95th_Percentile_Retweets  98th_Percentile_Retweets  \\\n",
       "0                       2.0                       4.0   \n",
       "1                       5.0                       7.0   \n",
       "2                       3.0                       5.0   \n",
       "\n",
       "   99th_Percentile_Retweets  99.5th_Percentile_Retweets  Max_Retweets  \\\n",
       "0                       6.0                         8.0             9   \n",
       "1                       8.0                         9.0             9   \n",
       "2                       7.0                         8.0             9   \n",
       "\n",
       "   Total_Likes  Median_Likes  Mean_Likes  Trimmed_Mean_Likes  \\\n",
       "0         1427           0.0    0.771351            0.200129   \n",
       "1         3048           0.0    1.076651            0.298001   \n",
       "2         4565           1.0    1.892620            1.446942   \n",
       "\n",
       "   90th_Percentile_Likes  95th_Percentile_Likes  98th_Percentile_Likes  \\\n",
       "0                    2.0                    4.0                    7.0   \n",
       "1                    3.0                    5.0                    7.0   \n",
       "2                    5.0                    6.0                    8.0   \n",
       "\n",
       "   99th_Percentile_Likes  99.5th_Percentile_Likes  Max_Likes  \n",
       "0                    8.0                      8.0          9  \n",
       "1                    8.0                      9.0          9  \n",
       "2                    9.0                      9.0          9  "
      ]
     },
     "execution_count": 41,
     "metadata": {},
     "output_type": "execute_result"
    }
   ],
   "source": [
    "X_summary_stat.head(3)"
   ]
  },
  {
   "cell_type": "code",
   "execution_count": 42,
   "metadata": {
    "collapsed": false
   },
   "outputs": [
    {
     "data": {
      "text/plain": [
       "(826, 22)"
      ]
     },
     "execution_count": 42,
     "metadata": {},
     "output_type": "execute_result"
    }
   ],
   "source": [
    "X_summary_stat.shape"
   ]
  },
  {
   "cell_type": "code",
   "execution_count": 43,
   "metadata": {
    "collapsed": false
   },
   "outputs": [],
   "source": [
    "lcv.fit(X_summary_stat.iloc[train_inds,:],y_train);"
   ]
  },
  {
   "cell_type": "markdown",
   "metadata": {},
   "source": [
    "Let's take a look at how many of the 22 features have non-zero coefficients."
   ]
  },
  {
   "cell_type": "code",
   "execution_count": 44,
   "metadata": {
    "collapsed": false
   },
   "outputs": [
    {
     "data": {
      "text/plain": [
       "8"
      ]
     },
     "execution_count": 44,
     "metadata": {},
     "output_type": "execute_result"
    }
   ],
   "source": [
    "np.sum(lcv.coef_!=0)"
   ]
  },
  {
   "cell_type": "markdown",
   "metadata": {},
   "source": [
    "Now how did the model perform? Let's look at the model's R-squared using the mean MSE across the 50 folds for the optimal choice of alpha."
   ]
  },
  {
   "cell_type": "code",
   "execution_count": 45,
   "metadata": {
    "collapsed": false
   },
   "outputs": [
    {
     "data": {
      "text/plain": [
       "0.11771850709355025"
      ]
     },
     "execution_count": 45,
     "metadata": {},
     "output_type": "execute_result"
    }
   ],
   "source": [
    "1 - lcv.mse_path_.mean(1).min()/np.var(y_train)"
   ]
  },
  {
   "cell_type": "markdown",
   "metadata": {},
   "source": [
    "Now let's visualize how this model did. "
   ]
  },
  {
   "cell_type": "code",
   "execution_count": 46,
   "metadata": {
    "collapsed": false
   },
   "outputs": [],
   "source": [
    "import matplotlib.pyplot as plt\n",
    "import seaborn as sns\n",
    "%matplotlib inline"
   ]
  },
  {
   "cell_type": "code",
   "execution_count": 47,
   "metadata": {
    "collapsed": false,
    "scrolled": true
   },
   "outputs": [
    {
     "data": {
      "image/png": "[encoded data removed]",
      "text/plain": [
       "<matplotlib.figure.Figure at 0x1b21ec8d0>"
      ]
     },
     "metadata": {},
     "output_type": "display_data"
    }
   ],
   "source": [
    "plt.figure(figsize=(10,5))\n",
    "plt.plot(lcv.alphas_,lcv.mse_path_.mean(1),lw=5,c='purple',label='Mean of 50 Folds');\n",
    "plt.axhline(np.var(y_train),label='MSE of Prediction with Mean',lw=2,ls='--',c='r');\n",
    "plt.legend();\n",
    "plt.ylim(0,12e14);\n",
    "plt.ylabel('Mean Squared Error');\n",
    "plt.xlabel('Lambda');"
   ]
  },
  {
   "cell_type": "markdown",
   "metadata": {},
   "source": [
    "This model performed slightly better than using the mean as a predictor. Since we know that at least the interaction between volume of tweets and likes and retweets with the time feature should be predictive, let's try adding linear interaction terms."
   ]
  },
  {
   "cell_type": "code",
   "execution_count": 48,
   "metadata": {
    "collapsed": true
   },
   "outputs": [],
   "source": [
    "from sklearn.preprocessing import PolynomialFeatures"
   ]
  },
  {
   "cell_type": "code",
   "execution_count": 49,
   "metadata": {
    "collapsed": false
   },
   "outputs": [],
   "source": [
    "poly = PolynomialFeatures(degree=2, interaction_only=True, include_bias=False)"
   ]
  },
  {
   "cell_type": "code",
   "execution_count": 50,
   "metadata": {
    "collapsed": false
   },
   "outputs": [],
   "source": [
    "X_summary_stat = poly.fit_transform(X_summary_stat)"
   ]
  },
  {
   "cell_type": "code",
   "execution_count": 51,
   "metadata": {
    "collapsed": false
   },
   "outputs": [
    {
     "data": {
      "text/plain": [
       "(826, 253)"
      ]
     },
     "execution_count": 51,
     "metadata": {},
     "output_type": "execute_result"
    }
   ],
   "source": [
    "X_summary_stat.shape"
   ]
  },
  {
   "cell_type": "code",
   "execution_count": 52,
   "metadata": {
    "collapsed": false
   },
   "outputs": [],
   "source": [
    "lcv.fit(X_summary_stat[train_inds],y_train);"
   ]
  },
  {
   "cell_type": "markdown",
   "metadata": {},
   "source": [
    "How many of the 253 features have non-zero coefficents?"
   ]
  },
  {
   "cell_type": "code",
   "execution_count": 53,
   "metadata": {
    "collapsed": false
   },
   "outputs": [
    {
     "data": {
      "text/plain": [
       "7"
      ]
     },
     "execution_count": 53,
     "metadata": {},
     "output_type": "execute_result"
    }
   ],
   "source": [
    "sum(lcv.coef_!=0)"
   ]
  },
  {
   "cell_type": "markdown",
   "metadata": {},
   "source": [
    "Let's see if the R-squared is any better."
   ]
  },
  {
   "cell_type": "code",
   "execution_count": 54,
   "metadata": {
    "collapsed": false
   },
   "outputs": [
    {
     "data": {
      "text/plain": [
       "0.13771806743735238"
      ]
     },
     "execution_count": 54,
     "metadata": {},
     "output_type": "execute_result"
    }
   ],
   "source": [
    "1 - lcv.mse_path_.mean(1).min()/np.var(y_train)"
   ]
  },
  {
   "cell_type": "markdown",
   "metadata": {},
   "source": [
    "It is. And the graph.."
   ]
  },
  {
   "cell_type": "code",
   "execution_count": 55,
   "metadata": {
    "collapsed": false
   },
   "outputs": [
    {
     "data": {
      "image/png": "[encoded data removed]",
      "text/plain": [
       "<matplotlib.figure.Figure at 0x16b58c090>"
      ]
     },
     "metadata": {},
     "output_type": "display_data"
    }
   ],
   "source": [
    "plt.figure(figsize=(10,5))\n",
    "plt.plot(lcv.alphas_,lcv.mse_path_.mean(1),lw=5,c='purple',label='Mean of 50 Folds');\n",
    "plt.axhline(np.var(y_train),label='MSE of Prediction with Mean',lw=2,ls='--',c='r');\n",
    "plt.legend();\n",
    "plt.ylim(0,12e14);\n",
    "plt.ylabel('Mean Squared Error');\n",
    "plt.xlabel('Lambda');"
   ]
  },
  {
   "cell_type": "markdown",
   "metadata": {},
   "source": [
    "### Modeling with just the Text Features"
   ]
  },
  {
   "cell_type": "code",
   "execution_count": 56,
   "metadata": {
    "collapsed": false,
    "scrolled": true
   },
   "outputs": [],
   "source": [
    "lcv.fit(X_text[train_inds],y_train);"
   ]
  },
  {
   "cell_type": "markdown",
   "metadata": {},
   "source": [
    "How many non-zero features?"
   ]
  },
  {
   "cell_type": "code",
   "execution_count": 57,
   "metadata": {
    "collapsed": false
   },
   "outputs": [
    {
     "data": {
      "text/plain": [
       "119"
      ]
     },
     "execution_count": 57,
     "metadata": {},
     "output_type": "execute_result"
    }
   ],
   "source": [
    "sum(lcv.coef_!=0)"
   ]
  },
  {
   "cell_type": "markdown",
   "metadata": {},
   "source": [
    "R-Squared?"
   ]
  },
  {
   "cell_type": "code",
   "execution_count": 58,
   "metadata": {
    "collapsed": false
   },
   "outputs": [
    {
     "data": {
      "text/plain": [
       "0.43187996128967576"
      ]
     },
     "execution_count": 58,
     "metadata": {},
     "output_type": "execute_result"
    }
   ],
   "source": [
    "1 - lcv.mse_path_.mean(1).min()/np.var(y_train)"
   ]
  },
  {
   "cell_type": "markdown",
   "metadata": {},
   "source": [
    "What are the most predictive features?"
   ]
  },
  {
   "cell_type": "code",
   "execution_count": 59,
   "metadata": {
    "collapsed": false
   },
   "outputs": [
    {
     "name": "stdout",
     "output_type": "stream",
     "text": [
      "tickets friday 1049465338.44\n",
      "hype 844177671.028\n",
      "hyped 561438378.895\n",
      "cinemark 463055207.729\n",
      "friday gonna 344785402.099\n",
      "rt review 317181426.344\n",
      "suit 310879384.146\n",
      "thinking seeing -302743421.329\n",
      "jealous 300799774.119\n",
      "talented -295114897.969\n"
     ]
    }
   ],
   "source": [
    "for ind in np.argsort(np.abs(lcv.coef_))[::-1][0:10]:\n",
    "    print d[ind],lcv.coef_[ind]"
   ]
  },
  {
   "cell_type": "markdown",
   "metadata": {},
   "source": [
    "### Putting the Two Sets of Features Together"
   ]
  },
  {
   "cell_type": "markdown",
   "metadata": {},
   "source": [
    "I do not want to take only the pre-selected features from the previous models and then run a model with just those features since that is one of the classic over-fitting pitfalls. Instead I will just run a single lasso with both sets of features.\n",
    "\n",
    "In order to implement this strategy while avoiding overfitting, feature-selection would need to happen inside each fold of cross-validation. This seems beyond the scope of a simple post so I will not do this here."
   ]
  },
  {
   "cell_type": "code",
   "execution_count": 60,
   "metadata": {
    "collapsed": false
   },
   "outputs": [],
   "source": [
    "X = np.hstack((X_summary_stat,X_text))"
   ]
  },
  {
   "cell_type": "code",
   "execution_count": 61,
   "metadata": {
    "collapsed": false
   },
   "outputs": [],
   "source": [
    "lcv.fit(X[train_inds],y_train);"
   ]
  },
  {
   "cell_type": "markdown",
   "metadata": {},
   "source": [
    "Number of non-zero features?"
   ]
  },
  {
   "cell_type": "code",
   "execution_count": 62,
   "metadata": {
    "collapsed": false
   },
   "outputs": [
    {
     "data": {
      "text/plain": [
       "126"
      ]
     },
     "execution_count": 62,
     "metadata": {},
     "output_type": "execute_result"
    }
   ],
   "source": [
    "sum(lcv.coef_!=0)"
   ]
  },
  {
   "cell_type": "markdown",
   "metadata": {},
   "source": [
    "R-Squared?"
   ]
  },
  {
   "cell_type": "code",
   "execution_count": 63,
   "metadata": {
    "collapsed": false
   },
   "outputs": [
    {
     "data": {
      "text/plain": [
       "0.4307676030817309"
      ]
     },
     "execution_count": 63,
     "metadata": {},
     "output_type": "execute_result"
    }
   ],
   "source": [
    "1 - lcv.mse_path_.mean(1).min()/np.var(y_train)"
   ]
  },
  {
   "cell_type": "markdown",
   "metadata": {},
   "source": [
    "Interestingly, the r-squared went down a tiny bit when I included the summary stat features. "
   ]
  },
  {
   "cell_type": "markdown",
   "metadata": {
    "collapsed": true
   },
   "source": [
    "### Testing"
   ]
  },
  {
   "cell_type": "markdown",
   "metadata": {},
   "source": [
    "I will end by simply predicting the hold-out movies, computing the R-Squared of the prediction and visualizing 50 of the predictions."
   ]
  },
  {
   "cell_type": "code",
   "execution_count": 64,
   "metadata": {
    "collapsed": false
   },
   "outputs": [
    {
     "data": {
      "text/plain": [
       "0.52091228171743031"
      ]
     },
     "execution_count": 64,
     "metadata": {},
     "output_type": "execute_result"
    }
   ],
   "source": [
    "lcv.score(X[test_inds],y_test)"
   ]
  },
  {
   "cell_type": "markdown",
   "metadata": {},
   "source": [
    "Not bad!"
   ]
  },
  {
   "cell_type": "code",
   "execution_count": 65,
   "metadata": {
    "collapsed": true
   },
   "outputs": [],
   "source": [
    "predictions = lcv.predict(X[test_inds])"
   ]
  },
  {
   "cell_type": "code",
   "execution_count": 66,
   "metadata": {
    "collapsed": false
   },
   "outputs": [
    {
     "data": {
      "image/png": "[encoded data removed]",
      "text/plain": [
       "<matplotlib.figure.Figure at 0x16b715710>"
      ]
     },
     "metadata": {},
     "output_type": "display_data"
    }
   ],
   "source": [
    "plt.figure(figsize=(15,5))\n",
    "plt.bar(range(len(y_test)),y_test,alpha=.5,label='Truth');\n",
    "plt.scatter(np.array(range(len(y_test)))+.4,predictions,c='r',label='Prediction')\n",
    "plt.xlim(150,200);\n",
    "plt.ylim(-.1e8)\n",
    "plt.legend();\n",
    "plt.ylabel('Opening Weekend Gross');\n",
    "plt.xlabel('Index of Movie');\n",
    "plt.title('Test Movies and Model Prediction of each Movie');"
   ]
  },
  {
   "cell_type": "markdown",
   "metadata": {},
   "source": [
    "### Conclusion"
   ]
  },
  {
   "cell_type": "markdown",
   "metadata": {},
   "source": [
    "I believe I have demonstrated that Twitter can be a rich data source for predicting movies' success. Making this model better could be done by collecting more data - i.e. going further back than 7 days before the opening, and scrolling down more than 25 times for each search. I wonder if what was holding back the summary statistic features from being predictive was the small amount of data that was collected.\n",
    "\n",
    "As for the text features, a simple improvement might be to add as stop words any words that are too specific to a few movies but are not in the titles of the movies - i.e. 'Bond'. A more complicated improvement might be to try to decipher whether a tweet is about the movie in question on a tweet by tweet basis.\n",
    "\n",
    "More generally, I think I have shown that data from Twitter can definetly have predictive value."
   ]
  },
  {
   "cell_type": "markdown",
   "metadata": {},
   "source": [
    "### Bonus material"
   ]
  },
  {
   "cell_type": "markdown",
   "metadata": {},
   "source": [
    "Just for fun, let's fit a model to the whole data set and see the 20 text features with the largest positive coefficients, and the 20 with the largest negative coefficients. "
   ]
  },
  {
   "cell_type": "code",
   "execution_count": 67,
   "metadata": {
    "collapsed": true
   },
   "outputs": [],
   "source": [
    "lcv.fit(X_text,data.opening_wknd);"
   ]
  },
  {
   "cell_type": "markdown",
   "metadata": {},
   "source": [
    "Top 20 positive features:"
   ]
  },
  {
   "cell_type": "code",
   "execution_count": 68,
   "metadata": {
    "collapsed": false
   },
   "outputs": [
    {
     "name": "stdout",
     "output_type": "stream",
     "text": [
      "hype, tickets friday, rt review, cinemark, jealous, premiere thursday, hyped, friday gonna, posts, waiting line, toys, booked, premiere carpet, counting days, arriving, premier, glasses, suit, excitement, fitting\n"
     ]
    }
   ],
   "source": [
    "print ', '.join([d[ind] for ind in np.argsort(lcv.coef_)[::-1][0:20]])"
   ]
  },
  {
   "cell_type": "markdown",
   "metadata": {},
   "source": [
    "Top 20 negative features:"
   ]
  },
  {
   "cell_type": "code",
   "execution_count": 69,
   "metadata": {
    "collapsed": false
   },
   "outputs": [
    {
     "name": "stdout",
     "output_type": "stream",
     "text": [
      "thinking seeing, talented, york ny, unfortunately, really liked, los angeles ca, heard, embarrassing, titled, gonna try, depressing, awe, movies opening, charity, hug, grateful, played, email, near, weeks ago\n"
     ]
    }
   ],
   "source": [
    "print ', '.join([d[ind] for ind in np.argsort(lcv.coef_)[0:20]])"
   ]
  }
 ],
 "metadata": {
  "kernelspec": {
   "display_name": "Python 2",
   "language": "python",
   "name": "python2"
  },
  "language_info": {
   "codemirror_mode": {
    "name": "ipython",
    "version": 2
   },
   "file_extension": ".py",
   "mimetype": "text/x-python",
   "name": "python",
   "nbconvert_exporter": "python",
   "pygments_lexer": "ipython2",
   "version": "2.7.11"
  }
 },
 "nbformat": 4,
 "nbformat_minor": 0
}
