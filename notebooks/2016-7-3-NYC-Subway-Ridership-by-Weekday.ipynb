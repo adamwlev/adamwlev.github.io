{
 "cells": [
  {
   "cell_type": "markdown",
   "metadata": {},
   "source": [
    "On my way to Metis this Friday morning, I noticed the 6 train, which is normally a complete zoo at 8:30 am, was relatively calm. I'd like to investigate whether this was due to the upcoming holiday weeknd, or if this is just a general phenomena on Fridays."
   ]
  },
  {
   "cell_type": "markdown",
   "metadata": {},
   "source": [
    "My goal is to read in some of the turnstile data, and then clean it and arrange it so that I can investigate if there is a difference in the number of subway patrons on Mondays vs. Tuesdays vs. Wednesdays vs. Thursdays vs. Fridays during morning commuting time."
   ]
  },
  {
   "cell_type": "markdown",
   "metadata": {},
   "source": [
    "We want to have a big enough sample size so let's download 25 weeks of data. In order to avoid anomalies like holidays, I have selected 25 normal-seeming-holiday-free weeks from 2015 and 2016. I avoided weeks when there was a holiday the Friday or Weekend before, or the Monday after."
   ]
  },
  {
   "cell_type": "code",
   "execution_count": 16,
   "metadata": {
    "collapsed": false
   },
   "outputs": [],
   "source": [
    "weeks = ['150815','150822','150829','150919','150926',\n",
    "         '151003','151024','151121','151212','151219',\n",
    "         '160130','160206','160227','160305','160312',\n",
    "         '160326','160409','160416','160430','160507',\n",
    "         '160514','160521','160611','160618','160625']"
   ]
  },
  {
   "cell_type": "code",
   "execution_count": 20,
   "metadata": {
    "collapsed": true
   },
   "outputs": [],
   "source": [
    "urls = ['''http://web.mta.info/developers/data/nyct/turnstile\n",
    "        /turnstile_%s.txt''' % week for week in weeks]"
   ]
  },
  {
   "cell_type": "code",
   "execution_count": 19,
   "metadata": {
    "collapsed": false
   },
   "outputs": [],
   "source": [
    "!touch data.txt\n",
    "for url in urls:\n",
    "    !curl -s {url} >> data.txt"
   ]
  },
  {
   "cell_type": "markdown",
   "metadata": {},
   "source": [
    "Reading it in and taking a look."
   ]
  },
  {
   "cell_type": "code",
   "execution_count": 21,
   "metadata": {
    "collapsed": false
   },
   "outputs": [],
   "source": [
    "import pandas as pd\n",
    "data = pd.read_csv('data.txt',low_memory=False)"
   ]
  },
  {
   "cell_type": "code",
   "execution_count": 22,
   "metadata": {
    "collapsed": true
   },
   "outputs": [],
   "source": [
    "data.columns = [col.strip() for col in data.columns]"
   ]
  },
  {
   "cell_type": "code",
   "execution_count": 23,
   "metadata": {
    "collapsed": false
   },
   "outputs": [
    {
     "name": "stdout",
     "output_type": "stream",
     "text": [
      "(4854895, 11)\n",
      "['C/A', 'UNIT', 'SCP', 'STATION', 'LINENAME', 'DIVISION', 'DATE', 'TIME', 'DESC', 'ENTRIES', 'EXITS']\n",
      "    C/A  UNIT       SCP        STATION LINENAME DIVISION        DATE  \\\n",
      "0  A002  R051  02-00-00  LEXINGTON AVE   NQR456      BMT  08/08/2015   \n",
      "1  A002  R051  02-00-00  LEXINGTON AVE   NQR456      BMT  08/08/2015   \n",
      "2  A002  R051  02-00-00  LEXINGTON AVE   NQR456      BMT  08/08/2015   \n",
      "\n",
      "       TIME     DESC     ENTRIES  \\\n",
      "0  00:00:00  REGULAR  0005259242   \n",
      "1  04:00:00  REGULAR  0005259278   \n",
      "2  08:00:00  REGULAR  0005259291   \n",
      "\n",
      "                                             EXITS  \n",
      "0  0001779093                                       \n",
      "1  0001779099                                       \n",
      "2  0001779125                                       \n"
     ]
    }
   ],
   "source": [
    "print data.shape\n",
    "print data.columns.tolist()\n",
    "print data.head(3)"
   ]
  },
  {
   "cell_type": "markdown",
   "metadata": {},
   "source": [
    "Time is in four hour intervals (generally). The time listed is when a particular time interval ends. Entries, and Exits are cumulative counts. C/A - Control Area - and Unit are station identifiers. SCP is a turnstile identifier. Turnstiles are the most granular level of collection. [After a little research](https://github.com/bmander/mta-station-entrance-turnstile) a teammate of mine discovered that a unit can have up to four turnstiles. So we'll be able to uniquely identify a count by a Station-Unit-SCP tuple. Control Area will not be useful for us. Neither will Linename or Division or DESC so I will drop these."
   ]
  },
  {
   "cell_type": "code",
   "execution_count": 24,
   "metadata": {
    "collapsed": true
   },
   "outputs": [],
   "source": [
    "data = data.drop(['C/A','LINENAME','DIVISION','DESC'],axis=1)"
   ]
  },
  {
   "cell_type": "code",
   "execution_count": 25,
   "metadata": {
    "collapsed": false
   },
   "outputs": [
    {
     "data": {
      "text/plain": [
       "['UNIT', 'SCP', 'STATION', 'DATE', 'TIME', 'ENTRIES', 'EXITS']"
      ]
     },
     "execution_count": 25,
     "metadata": {},
     "output_type": "execute_result"
    }
   ],
   "source": [
    "data.columns.tolist()"
   ]
  },
  {
   "cell_type": "markdown",
   "metadata": {},
   "source": [
    "Now we want to transform the cumulative counts for entries and exits into raw number of entries and exits. We will do so on the turnstile level. First things first let's make the Date and time columns into one column with a Datetime object in it. And just quickly before I do that, I will remove all the header rows of the data."
   ]
  },
  {
   "cell_type": "code",
   "execution_count": 26,
   "metadata": {
    "collapsed": false
   },
   "outputs": [],
   "source": [
    "data = data.drop(data[data.DATE=='DATE'].index,axis=0)"
   ]
  },
  {
   "cell_type": "code",
   "execution_count": 27,
   "metadata": {
    "collapsed": true
   },
   "outputs": [],
   "source": [
    "from datetime import datetime, date, timedelta, time"
   ]
  },
  {
   "cell_type": "code",
   "execution_count": 28,
   "metadata": {
    "collapsed": false
   },
   "outputs": [],
   "source": [
    "data.insert(3,'datetime',[datetime.strptime(d+t,'%m/%d/%Y%X')\n",
    "                          for d,t in zip(data.DATE,data.TIME)])\n",
    "data = data.drop(['DATE','TIME'],axis=1)"
   ]
  },
  {
   "cell_type": "code",
   "execution_count": 29,
   "metadata": {
    "collapsed": false
   },
   "outputs": [
    {
     "data": {
      "text/html": [
       "<div>\n",
       "<table border=\"1\" class=\"dataframe\">\n",
       "  <thead>\n",
       "    <tr style=\"text-align: right;\">\n",
       "      <th></th>\n",
       "      <th>UNIT</th>\n",
       "      <th>SCP</th>\n",
       "      <th>STATION</th>\n",
       "      <th>datetime</th>\n",
       "      <th>ENTRIES</th>\n",
       "      <th>EXITS</th>\n",
       "    </tr>\n",
       "  </thead>\n",
       "  <tbody>\n",
       "    <tr>\n",
       "      <th>0</th>\n",
       "      <td>R051</td>\n",
       "      <td>02-00-00</td>\n",
       "      <td>LEXINGTON AVE</td>\n",
       "      <td>2015-08-08 00:00:00</td>\n",
       "      <td>0005259242</td>\n",
       "      <td>0001779093</td>\n",
       "    </tr>\n",
       "    <tr>\n",
       "      <th>1</th>\n",
       "      <td>R051</td>\n",
       "      <td>02-00-00</td>\n",
       "      <td>LEXINGTON AVE</td>\n",
       "      <td>2015-08-08 04:00:00</td>\n",
       "      <td>0005259278</td>\n",
       "      <td>0001779099</td>\n",
       "    </tr>\n",
       "    <tr>\n",
       "      <th>2</th>\n",
       "      <td>R051</td>\n",
       "      <td>02-00-00</td>\n",
       "      <td>LEXINGTON AVE</td>\n",
       "      <td>2015-08-08 08:00:00</td>\n",
       "      <td>0005259291</td>\n",
       "      <td>0001779125</td>\n",
       "    </tr>\n",
       "  </tbody>\n",
       "</table>\n",
       "</div>"
      ],
      "text/plain": [
       "   UNIT       SCP        STATION            datetime     ENTRIES  \\\n",
       "0  R051  02-00-00  LEXINGTON AVE 2015-08-08 00:00:00  0005259242   \n",
       "1  R051  02-00-00  LEXINGTON AVE 2015-08-08 04:00:00  0005259278   \n",
       "2  R051  02-00-00  LEXINGTON AVE 2015-08-08 08:00:00  0005259291   \n",
       "\n",
       "                                             EXITS  \n",
       "0  0001779093                                       \n",
       "1  0001779099                                       \n",
       "2  0001779125                                       "
      ]
     },
     "execution_count": 29,
     "metadata": {},
     "output_type": "execute_result"
    }
   ],
   "source": [
    "data.head(3)"
   ]
  },
  {
   "cell_type": "markdown",
   "metadata": {},
   "source": [
    "Now let's investigate the length of these time intervals. Since the data that I grabbed is from many different weeks and the time intervals between different weeks might be unmeaningful because I might not have grabbed the data from the next week, I will start by inserting a week column that will be the number of weeks since 08/08/2015. Then I will group by this variable in addition to Unit and SCP and do a diff operation on the datetime column."
   ]
  },
  {
   "cell_type": "code",
   "execution_count": 34,
   "metadata": {
    "collapsed": true
   },
   "outputs": [],
   "source": [
    "d_start = datetime.combine(date(2015,8,8), datetime.min.time())\n",
    "sec_in_week = timedelta(weeks=1).total_seconds()"
   ]
  },
  {
   "cell_type": "code",
   "execution_count": 37,
   "metadata": {
    "collapsed": false
   },
   "outputs": [],
   "source": [
    "data.insert(4,'week',[int((dt.to_pydatetime() - d_start).total_seconds()/sec_in_week)\n",
    "                      for dt in data.datetime])"
   ]
  },
  {
   "cell_type": "code",
   "execution_count": 38,
   "metadata": {
    "collapsed": false,
    "scrolled": true
   },
   "outputs": [
    {
     "name": "stdout",
     "output_type": "stream",
     "text": [
      "25\n"
     ]
    }
   ],
   "source": [
    "print len(pd.unique(data.week))"
   ]
  },
  {
   "cell_type": "code",
   "execution_count": 39,
   "metadata": {
    "collapsed": false
   },
   "outputs": [
    {
     "name": "stdout",
     "output_type": "stream",
     "text": [
      "28    198884\n",
      "5     196905\n",
      "30    196533\n",
      "25    195366\n",
      "29    194776\n",
      "Name: week, dtype: int64\n"
     ]
    }
   ],
   "source": [
    "print data.week.value_counts().head()"
   ]
  },
  {
   "cell_type": "code",
   "execution_count": 40,
   "metadata": {
    "collapsed": false
   },
   "outputs": [
    {
     "name": "stdout",
     "output_type": "stream",
     "text": [
      "0                   NaT\n",
      "1   1970-01-01 04:00:00\n",
      "2   1970-01-01 04:00:00\n",
      "3   1970-01-01 04:00:00\n",
      "4   1970-01-01 04:00:00\n",
      "Name: dt_diffs, dtype: datetime64[ns]\n"
     ]
    }
   ],
   "source": [
    "data.insert(4,'dt_diffs',data.groupby(['UNIT','SCP','week'])['datetime'].transform(pd.Series.diff))\n",
    "print data.dt_diffs.head()"
   ]
  },
  {
   "cell_type": "markdown",
   "metadata": {},
   "source": [
    "The first value is 'NaT' which I guess stands for Not a Time. This is good. Now let's take a look at the values."
   ]
  },
  {
   "cell_type": "code",
   "execution_count": 41,
   "metadata": {
    "collapsed": false,
    "scrolled": true
   },
   "outputs": [
    {
     "name": "stdout",
     "output_type": "stream",
     "text": [
      "1970-01-01 04:00:00    4325736\n",
      "1970-01-01 04:12:00     262177\n",
      "1970-01-01 00:01:20       6222\n",
      "Name: dt_diffs, dtype: int64\n"
     ]
    }
   ],
   "source": [
    "print data.dt_diffs.value_counts().head(3)"
   ]
  },
  {
   "cell_type": "code",
   "execution_count": 42,
   "metadata": {
    "collapsed": false
   },
   "outputs": [
    {
     "name": "stdout",
     "output_type": "stream",
     "text": [
      "1970-01-01 04:00:00    0.891009\n",
      "1970-01-01 04:12:00    0.054003\n",
      "1970-01-01 00:01:20    0.001282\n",
      "Name: dt_diffs, dtype: float64\n"
     ]
    }
   ],
   "source": [
    "print (data.dt_diffs.value_counts()/len(data)).head(3)"
   ]
  },
  {
   "cell_type": "markdown",
   "metadata": {},
   "source": [
    "So, we can see that the data are messy. This is good information, but it actually should not matter for the question at hand. If we assume that the irregularities in the time intervals do not occur more or less often on any day of the week, we can just ignore this irregularity. To me this seems like a safe assumption so I will proceed under it. Now let's do a diff operation on the Cumulative entries and exits to see what the data look like."
   ]
  },
  {
   "cell_type": "code",
   "execution_count": 43,
   "metadata": {
    "collapsed": false
   },
   "outputs": [],
   "source": [
    "data['ENTRIES'] = pd.to_numeric(data['ENTRIES'])\n",
    "data.insert(len(data.columns),'ent_diffs',\n",
    "            data.groupby(['UNIT','SCP','week'])['ENTRIES'].transform(pd.Series.diff))"
   ]
  },
  {
   "cell_type": "code",
   "execution_count": 44,
   "metadata": {
    "collapsed": false
   },
   "outputs": [],
   "source": [
    "data['EXITS'] = pd.to_numeric(data['EXITS'])\n",
    "data.insert(len(data.columns),'ex_diffs',\n",
    "            data.groupby(['UNIT','SCP','week'])['EXITS'].transform(pd.Series.diff))"
   ]
  },
  {
   "cell_type": "code",
   "execution_count": 45,
   "metadata": {
    "collapsed": false
   },
   "outputs": [
    {
     "data": {
      "text/html": [
       "<div>\n",
       "<table border=\"1\" class=\"dataframe\">\n",
       "  <thead>\n",
       "    <tr style=\"text-align: right;\">\n",
       "      <th></th>\n",
       "      <th>UNIT</th>\n",
       "      <th>SCP</th>\n",
       "      <th>STATION</th>\n",
       "      <th>datetime</th>\n",
       "      <th>dt_diffs</th>\n",
       "      <th>week</th>\n",
       "      <th>ENTRIES</th>\n",
       "      <th>EXITS</th>\n",
       "      <th>ent_diffs</th>\n",
       "      <th>ex_diffs</th>\n",
       "    </tr>\n",
       "  </thead>\n",
       "  <tbody>\n",
       "    <tr>\n",
       "      <th>0</th>\n",
       "      <td>R051</td>\n",
       "      <td>02-00-00</td>\n",
       "      <td>LEXINGTON AVE</td>\n",
       "      <td>2015-08-08 00:00:00</td>\n",
       "      <td>NaT</td>\n",
       "      <td>0</td>\n",
       "      <td>5259242</td>\n",
       "      <td>1779093</td>\n",
       "      <td>NaN</td>\n",
       "      <td>NaN</td>\n",
       "    </tr>\n",
       "    <tr>\n",
       "      <th>1</th>\n",
       "      <td>R051</td>\n",
       "      <td>02-00-00</td>\n",
       "      <td>LEXINGTON AVE</td>\n",
       "      <td>2015-08-08 04:00:00</td>\n",
       "      <td>1970-01-01 04:00:00</td>\n",
       "      <td>0</td>\n",
       "      <td>5259278</td>\n",
       "      <td>1779099</td>\n",
       "      <td>36.0</td>\n",
       "      <td>6.0</td>\n",
       "    </tr>\n",
       "    <tr>\n",
       "      <th>2</th>\n",
       "      <td>R051</td>\n",
       "      <td>02-00-00</td>\n",
       "      <td>LEXINGTON AVE</td>\n",
       "      <td>2015-08-08 08:00:00</td>\n",
       "      <td>1970-01-01 04:00:00</td>\n",
       "      <td>0</td>\n",
       "      <td>5259291</td>\n",
       "      <td>1779125</td>\n",
       "      <td>13.0</td>\n",
       "      <td>26.0</td>\n",
       "    </tr>\n",
       "  </tbody>\n",
       "</table>\n",
       "</div>"
      ],
      "text/plain": [
       "   UNIT       SCP        STATION            datetime            dt_diffs  \\\n",
       "0  R051  02-00-00  LEXINGTON AVE 2015-08-08 00:00:00                 NaT   \n",
       "1  R051  02-00-00  LEXINGTON AVE 2015-08-08 04:00:00 1970-01-01 04:00:00   \n",
       "2  R051  02-00-00  LEXINGTON AVE 2015-08-08 08:00:00 1970-01-01 04:00:00   \n",
       "\n",
       "   week  ENTRIES    EXITS  ent_diffs  ex_diffs  \n",
       "0     0  5259242  1779093        NaN       NaN  \n",
       "1     0  5259278  1779099       36.0       6.0  \n",
       "2     0  5259291  1779125       13.0      26.0  "
      ]
     },
     "execution_count": 45,
     "metadata": {},
     "output_type": "execute_result"
    }
   ],
   "source": [
    "data.head(3)"
   ]
  },
  {
   "cell_type": "markdown",
   "metadata": {},
   "source": [
    "Let's check out the smallest values of both ent_diffs and ex_diffs."
   ]
  },
  {
   "cell_type": "code",
   "execution_count": 47,
   "metadata": {
    "collapsed": false
   },
   "outputs": [
    {
     "name": "stdout",
     "output_type": "stream",
     "text": [
      "[-2130765563.0, -1961790095.0, -1424900305.0]\n",
      "[-2097169634.0, -1946115181.0, -1876058229.0]\n"
     ]
    }
   ],
   "source": [
    "print data.ent_diffs.sort_values().tolist()[0:3]\n",
    "print data.ex_diffs.sort_values().tolist()[0:3]"
   ]
  },
  {
   "cell_type": "markdown",
   "metadata": {},
   "source": [
    "There are negative diff values for both Entries and Exits. This makes no sense. Since we can't explain these values, I say we drop them from the set so they don't effect the analysis. Again this assumes that these negative values are not meaningful and further that any meaning they have is not different between different days of the week. Personally, I think this is reasonable. Short of calling an MTA official and asking him about the negative values, there's not much else I can do."
   ]
  },
  {
   "cell_type": "code",
   "execution_count": 48,
   "metadata": {
    "collapsed": false
   },
   "outputs": [
    {
     "name": "stdout",
     "output_type": "stream",
     "text": [
      "Data have been shrunk by 0.936379 %\n"
     ]
    }
   ],
   "source": [
    "before = len(data)\n",
    "data = data.drop(data[(data.ent_diffs<0) | (data.ex_diffs<0)].index, axis=0)\n",
    "after = len(data)\n",
    "shrinkage = float(before-after)/before * 100\n",
    "print 'Data have been shrunk by %g %%' % shrinkage"
   ]
  },
  {
   "cell_type": "markdown",
   "metadata": {},
   "source": [
    "Now let's look at the other end of the spectrum to make sure the largest values are reasonable."
   ]
  },
  {
   "cell_type": "code",
   "execution_count": 49,
   "metadata": {
    "collapsed": false
   },
   "outputs": [
    {
     "name": "stdout",
     "output_type": "stream",
     "text": [
      "[2122354969.0, 1936970444.0, 1906771042.0]\n",
      "[2088918757.0, 2022959610.0, 2004292012.0]\n"
     ]
    }
   ],
   "source": [
    "print data.ent_diffs.sort_values(ascending=False).tolist()[0:3]\n",
    "print data.ex_diffs.sort_values(ascending=False).tolist()[0:3]"
   ]
  },
  {
   "cell_type": "markdown",
   "metadata": {},
   "source": [
    "Those values are definitely not reasonable. Let's just make a quick assumption that no more than 14,400 people can exit or enter per turnstile in a given interval (that's one person per second for the four hour intervals)."
   ]
  },
  {
   "cell_type": "code",
   "execution_count": 50,
   "metadata": {
    "collapsed": false
   },
   "outputs": [
    {
     "name": "stdout",
     "output_type": "stream",
     "text": [
      "Data have been shrunk by 0.00261986 %\n"
     ]
    }
   ],
   "source": [
    "before = len(data)\n",
    "data = data.drop(data[(data.ent_diffs>14400) | (data.ex_diffs>14400)].index, axis=0)\n",
    "after = len(data)\n",
    "shrinkage = float(before-after)/before * 100\n",
    "print 'Data have been shrunk by %g %%' % shrinkage"
   ]
  },
  {
   "cell_type": "markdown",
   "metadata": {},
   "source": [
    "Now we are getting closer and closer to what we'll consider to be clean data. As a next step let's say the measure of overall traffic is entries plus exits. Also let's add a day of the week column, and drop all the columns we won't need from the point forward."
   ]
  },
  {
   "cell_type": "code",
   "execution_count": 51,
   "metadata": {
    "collapsed": false
   },
   "outputs": [],
   "source": [
    "data['tot_traffic'] = data.ent_diffs + data.ex_diffs\n",
    "data.insert(0,'day_of_week',[dt.weekday() for dt in data.datetime])\n",
    "data = data[['datetime','week','day_of_week','tot_traffic']]"
   ]
  },
  {
   "cell_type": "code",
   "execution_count": 52,
   "metadata": {
    "collapsed": false
   },
   "outputs": [
    {
     "data": {
      "text/html": [
       "<div>\n",
       "<table border=\"1\" class=\"dataframe\">\n",
       "  <thead>\n",
       "    <tr style=\"text-align: right;\">\n",
       "      <th></th>\n",
       "      <th>datetime</th>\n",
       "      <th>week</th>\n",
       "      <th>day_of_week</th>\n",
       "      <th>tot_traffic</th>\n",
       "    </tr>\n",
       "  </thead>\n",
       "  <tbody>\n",
       "    <tr>\n",
       "      <th>0</th>\n",
       "      <td>2015-08-08 00:00:00</td>\n",
       "      <td>0</td>\n",
       "      <td>5</td>\n",
       "      <td>NaN</td>\n",
       "    </tr>\n",
       "    <tr>\n",
       "      <th>1</th>\n",
       "      <td>2015-08-08 04:00:00</td>\n",
       "      <td>0</td>\n",
       "      <td>5</td>\n",
       "      <td>42.0</td>\n",
       "    </tr>\n",
       "    <tr>\n",
       "      <th>2</th>\n",
       "      <td>2015-08-08 08:00:00</td>\n",
       "      <td>0</td>\n",
       "      <td>5</td>\n",
       "      <td>39.0</td>\n",
       "    </tr>\n",
       "    <tr>\n",
       "      <th>3</th>\n",
       "      <td>2015-08-08 12:00:00</td>\n",
       "      <td>0</td>\n",
       "      <td>5</td>\n",
       "      <td>205.0</td>\n",
       "    </tr>\n",
       "    <tr>\n",
       "      <th>4</th>\n",
       "      <td>2015-08-08 16:00:00</td>\n",
       "      <td>0</td>\n",
       "      <td>5</td>\n",
       "      <td>280.0</td>\n",
       "    </tr>\n",
       "  </tbody>\n",
       "</table>\n",
       "</div>"
      ],
      "text/plain": [
       "             datetime  week  day_of_week  tot_traffic\n",
       "0 2015-08-08 00:00:00     0            5          NaN\n",
       "1 2015-08-08 04:00:00     0            5         42.0\n",
       "2 2015-08-08 08:00:00     0            5         39.0\n",
       "3 2015-08-08 12:00:00     0            5        205.0\n",
       "4 2015-08-08 16:00:00     0            5        280.0"
      ]
     },
     "execution_count": 52,
     "metadata": {},
     "output_type": "execute_result"
    }
   ],
   "source": [
    "data.head() ## 5 is for Saturday"
   ]
  },
  {
   "cell_type": "markdown",
   "metadata": {},
   "source": [
    "Now we are only concerned with the morning commute time. Remember the time listed is for when the interval ends. Now I will select only the observations that correspond to the morning commute window. At the beginning I said I was interested in the time around 8:30 am. Getting that specific with these 4(ish) hour intervals is impossible. So I will subset the data to only intervals that end between 9 am and 12 pm (inclusive). This will capture all morning commuting times."
   ]
  },
  {
   "cell_type": "code",
   "execution_count": 53,
   "metadata": {
    "collapsed": false
   },
   "outputs": [],
   "source": [
    "t_beg, t_end = time(9,0,0), time(12,0,0)\n",
    "data.insert(1,'time',[dt.time() for dt in data.datetime])\n",
    "data = data[(data.time>=t_beg) & (data.time<=t_end)]"
   ]
  },
  {
   "cell_type": "code",
   "execution_count": 55,
   "metadata": {
    "collapsed": false
   },
   "outputs": [
    {
     "data": {
      "text/html": [
       "<div>\n",
       "<table border=\"1\" class=\"dataframe\">\n",
       "  <thead>\n",
       "    <tr style=\"text-align: right;\">\n",
       "      <th></th>\n",
       "      <th>datetime</th>\n",
       "      <th>time</th>\n",
       "      <th>week</th>\n",
       "      <th>day_of_week</th>\n",
       "      <th>tot_traffic</th>\n",
       "    </tr>\n",
       "  </thead>\n",
       "  <tbody>\n",
       "    <tr>\n",
       "      <th>3</th>\n",
       "      <td>2015-08-08 12:00:00</td>\n",
       "      <td>12:00:00</td>\n",
       "      <td>0</td>\n",
       "      <td>5</td>\n",
       "      <td>205.0</td>\n",
       "    </tr>\n",
       "    <tr>\n",
       "      <th>9</th>\n",
       "      <td>2015-08-09 12:00:00</td>\n",
       "      <td>12:00:00</td>\n",
       "      <td>0</td>\n",
       "      <td>6</td>\n",
       "      <td>125.0</td>\n",
       "    </tr>\n",
       "    <tr>\n",
       "      <th>15</th>\n",
       "      <td>2015-08-10 12:00:00</td>\n",
       "      <td>12:00:00</td>\n",
       "      <td>0</td>\n",
       "      <td>0</td>\n",
       "      <td>415.0</td>\n",
       "    </tr>\n",
       "  </tbody>\n",
       "</table>\n",
       "</div>"
      ],
      "text/plain": [
       "              datetime      time  week  day_of_week  tot_traffic\n",
       "3  2015-08-08 12:00:00  12:00:00     0            5        205.0\n",
       "9  2015-08-09 12:00:00  12:00:00     0            6        125.0\n",
       "15 2015-08-10 12:00:00  12:00:00     0            0        415.0"
      ]
     },
     "execution_count": 55,
     "metadata": {},
     "output_type": "execute_result"
    }
   ],
   "source": [
    "data.head(3)"
   ]
  },
  {
   "cell_type": "markdown",
   "metadata": {},
   "source": [
    "Now we are ready to drop all but week, day_of_week, and tot_traffic. Then we can group by week and day_of_week and sum tot_traffic so that we just have 175 = 25 * 7 rows, one for each observed day."
   ]
  },
  {
   "cell_type": "code",
   "execution_count": 56,
   "metadata": {
    "collapsed": false
   },
   "outputs": [],
   "source": [
    "data = data[['week','day_of_week','tot_traffic']]\n",
    "grouped = data.groupby(['week','day_of_week'],as_index=False)"
   ]
  },
  {
   "cell_type": "code",
   "execution_count": 57,
   "metadata": {
    "collapsed": false
   },
   "outputs": [
    {
     "data": {
      "text/html": [
       "<div>\n",
       "<table border=\"1\" class=\"dataframe\">\n",
       "  <thead>\n",
       "    <tr style=\"text-align: right;\">\n",
       "      <th></th>\n",
       "      <th>week</th>\n",
       "      <th>day_of_week</th>\n",
       "      <th>tot_traffic</th>\n",
       "    </tr>\n",
       "  </thead>\n",
       "  <tbody>\n",
       "    <tr>\n",
       "      <th>0</th>\n",
       "      <td>0</td>\n",
       "      <td>0</td>\n",
       "      <td>2252447.0</td>\n",
       "    </tr>\n",
       "    <tr>\n",
       "      <th>1</th>\n",
       "      <td>0</td>\n",
       "      <td>1</td>\n",
       "      <td>2308394.0</td>\n",
       "    </tr>\n",
       "    <tr>\n",
       "      <th>2</th>\n",
       "      <td>0</td>\n",
       "      <td>2</td>\n",
       "      <td>2393093.0</td>\n",
       "    </tr>\n",
       "    <tr>\n",
       "      <th>3</th>\n",
       "      <td>0</td>\n",
       "      <td>3</td>\n",
       "      <td>2354279.0</td>\n",
       "    </tr>\n",
       "    <tr>\n",
       "      <th>4</th>\n",
       "      <td>0</td>\n",
       "      <td>4</td>\n",
       "      <td>2158339.0</td>\n",
       "    </tr>\n",
       "    <tr>\n",
       "      <th>5</th>\n",
       "      <td>0</td>\n",
       "      <td>5</td>\n",
       "      <td>904774.0</td>\n",
       "    </tr>\n",
       "    <tr>\n",
       "      <th>6</th>\n",
       "      <td>0</td>\n",
       "      <td>6</td>\n",
       "      <td>695501.0</td>\n",
       "    </tr>\n",
       "    <tr>\n",
       "      <th>7</th>\n",
       "      <td>1</td>\n",
       "      <td>0</td>\n",
       "      <td>2185417.0</td>\n",
       "    </tr>\n",
       "  </tbody>\n",
       "</table>\n",
       "</div>"
      ],
      "text/plain": [
       "   week  day_of_week  tot_traffic\n",
       "0     0            0    2252447.0\n",
       "1     0            1    2308394.0\n",
       "2     0            2    2393093.0\n",
       "3     0            3    2354279.0\n",
       "4     0            4    2158339.0\n",
       "5     0            5     904774.0\n",
       "6     0            6     695501.0\n",
       "7     1            0    2185417.0"
      ]
     },
     "execution_count": 57,
     "metadata": {},
     "output_type": "execute_result"
    }
   ],
   "source": [
    "grouped.tot_traffic.sum().head(8)"
   ]
  },
  {
   "cell_type": "markdown",
   "metadata": {},
   "source": [
    "I kept the weekends (day_of_week = 5 or 6) in up to this point just to see how the traffic values would compare to weekdays. Now we can see the weekend values are consistently about half to a third of the weekday values. Now I'll drop the weekend values so we can just focus on the task at hand."
   ]
  },
  {
   "cell_type": "code",
   "execution_count": 58,
   "metadata": {
    "collapsed": true
   },
   "outputs": [],
   "source": [
    "nice_data = grouped.tot_traffic.sum()[~grouped.tot_traffic.sum().day_of_week.isin([5,6])]"
   ]
  },
  {
   "cell_type": "code",
   "execution_count": 59,
   "metadata": {
    "collapsed": false
   },
   "outputs": [
    {
     "data": {
      "text/html": [
       "<div>\n",
       "<table border=\"1\" class=\"dataframe\">\n",
       "  <thead>\n",
       "    <tr style=\"text-align: right;\">\n",
       "      <th></th>\n",
       "      <th>week</th>\n",
       "      <th>day_of_week</th>\n",
       "      <th>tot_traffic</th>\n",
       "    </tr>\n",
       "  </thead>\n",
       "  <tbody>\n",
       "    <tr>\n",
       "      <th>0</th>\n",
       "      <td>0</td>\n",
       "      <td>0</td>\n",
       "      <td>2252447.0</td>\n",
       "    </tr>\n",
       "    <tr>\n",
       "      <th>1</th>\n",
       "      <td>0</td>\n",
       "      <td>1</td>\n",
       "      <td>2308394.0</td>\n",
       "    </tr>\n",
       "    <tr>\n",
       "      <th>2</th>\n",
       "      <td>0</td>\n",
       "      <td>2</td>\n",
       "      <td>2393093.0</td>\n",
       "    </tr>\n",
       "    <tr>\n",
       "      <th>3</th>\n",
       "      <td>0</td>\n",
       "      <td>3</td>\n",
       "      <td>2354279.0</td>\n",
       "    </tr>\n",
       "    <tr>\n",
       "      <th>4</th>\n",
       "      <td>0</td>\n",
       "      <td>4</td>\n",
       "      <td>2158339.0</td>\n",
       "    </tr>\n",
       "    <tr>\n",
       "      <th>7</th>\n",
       "      <td>1</td>\n",
       "      <td>0</td>\n",
       "      <td>2185417.0</td>\n",
       "    </tr>\n",
       "    <tr>\n",
       "      <th>8</th>\n",
       "      <td>1</td>\n",
       "      <td>1</td>\n",
       "      <td>2278765.0</td>\n",
       "    </tr>\n",
       "  </tbody>\n",
       "</table>\n",
       "</div>"
      ],
      "text/plain": [
       "   week  day_of_week  tot_traffic\n",
       "0     0            0    2252447.0\n",
       "1     0            1    2308394.0\n",
       "2     0            2    2393093.0\n",
       "3     0            3    2354279.0\n",
       "4     0            4    2158339.0\n",
       "7     1            0    2185417.0\n",
       "8     1            1    2278765.0"
      ]
     },
     "execution_count": 59,
     "metadata": {},
     "output_type": "execute_result"
    }
   ],
   "source": [
    "nice_data.head(7)"
   ]
  },
  {
   "cell_type": "markdown",
   "metadata": {},
   "source": [
    "It'd be nice to make each week a row and each day of the week a column with tot_traffic in each cell. "
   ]
  },
  {
   "cell_type": "code",
   "execution_count": 60,
   "metadata": {
    "collapsed": true
   },
   "outputs": [],
   "source": [
    "nice_data = nice_data.pivot(index='week', columns='day_of_week', values='tot_traffic')"
   ]
  },
  {
   "cell_type": "code",
   "execution_count": 61,
   "metadata": {
    "collapsed": false,
    "scrolled": true
   },
   "outputs": [
    {
     "data": {
      "text/html": [
       "<div>\n",
       "<table border=\"1\" class=\"dataframe\">\n",
       "  <thead>\n",
       "    <tr style=\"text-align: right;\">\n",
       "      <th>day_of_week</th>\n",
       "      <th>0</th>\n",
       "      <th>1</th>\n",
       "      <th>2</th>\n",
       "      <th>3</th>\n",
       "      <th>4</th>\n",
       "    </tr>\n",
       "    <tr>\n",
       "      <th>week</th>\n",
       "      <th></th>\n",
       "      <th></th>\n",
       "      <th></th>\n",
       "      <th></th>\n",
       "      <th></th>\n",
       "    </tr>\n",
       "  </thead>\n",
       "  <tbody>\n",
       "    <tr>\n",
       "      <th>0</th>\n",
       "      <td>2252447.0</td>\n",
       "      <td>2308394.0</td>\n",
       "      <td>2393093.0</td>\n",
       "      <td>2354279.0</td>\n",
       "      <td>2158339.0</td>\n",
       "    </tr>\n",
       "    <tr>\n",
       "      <th>1</th>\n",
       "      <td>2185417.0</td>\n",
       "      <td>2278765.0</td>\n",
       "      <td>2319063.0</td>\n",
       "      <td>2231249.0</td>\n",
       "      <td>2080025.0</td>\n",
       "    </tr>\n",
       "    <tr>\n",
       "      <th>2</th>\n",
       "      <td>2192734.0</td>\n",
       "      <td>2289553.0</td>\n",
       "      <td>2294883.0</td>\n",
       "      <td>2274809.0</td>\n",
       "      <td>2132043.0</td>\n",
       "    </tr>\n",
       "    <tr>\n",
       "      <th>5</th>\n",
       "      <td>2113839.0</td>\n",
       "      <td>2254451.0</td>\n",
       "      <td>2654572.0</td>\n",
       "      <td>2656529.0</td>\n",
       "      <td>2503096.0</td>\n",
       "    </tr>\n",
       "    <tr>\n",
       "      <th>6</th>\n",
       "      <td>2649754.0</td>\n",
       "      <td>2566864.0</td>\n",
       "      <td>2136313.0</td>\n",
       "      <td>2451108.0</td>\n",
       "      <td>2467842.0</td>\n",
       "    </tr>\n",
       "  </tbody>\n",
       "</table>\n",
       "</div>"
      ],
      "text/plain": [
       "day_of_week          0          1          2          3          4\n",
       "week                                                              \n",
       "0            2252447.0  2308394.0  2393093.0  2354279.0  2158339.0\n",
       "1            2185417.0  2278765.0  2319063.0  2231249.0  2080025.0\n",
       "2            2192734.0  2289553.0  2294883.0  2274809.0  2132043.0\n",
       "5            2113839.0  2254451.0  2654572.0  2656529.0  2503096.0\n",
       "6            2649754.0  2566864.0  2136313.0  2451108.0  2467842.0"
      ]
     },
     "execution_count": 61,
     "metadata": {},
     "output_type": "execute_result"
    }
   ],
   "source": [
    "nice_data.iloc[0:5]"
   ]
  },
  {
   "cell_type": "markdown",
   "metadata": {},
   "source": [
    "Now we can hypothesis test whether the mean of Mondays is different from the mean of Tuesdays and mean of Wednesdays as so on. First lets visualize the data a little."
   ]
  },
  {
   "cell_type": "code",
   "execution_count": 62,
   "metadata": {
    "collapsed": true
   },
   "outputs": [],
   "source": [
    "import matplotlib.pyplot as plt\n",
    "%matplotlib inline"
   ]
  },
  {
   "cell_type": "code",
   "execution_count": 63,
   "metadata": {
    "collapsed": false
   },
   "outputs": [
    {
     "data": {
      "image/png": "[encoded data removed]",
      "text/plain": [
       "<matplotlib.figure.Figure at 0x114397510>"
      ]
     },
     "metadata": {},
     "output_type": "display_data"
    }
   ],
   "source": [
    "plt.figure(figsize=(12,7))\n",
    "plt.boxplot([nice_data[col] for col in nice_data.columns.tolist()], showmeans=True);\n",
    "plt.xticks(nice_data.columns + 1, ['Mon','Tues','Wed','Thur','Fri']);\n",
    "plt.tick_params(top='off',bottom='off');\n",
    "plt.ylabel('Total Number of Entries and Exits',fontsize=16);\n",
    "plt.xlabel('Day of the Week',fontsize=13);\n",
    "plt.title('Entries and Exits for 25 weeks Grouped by Day of Week',fontsize=14);"
   ]
  },
  {
   "cell_type": "markdown",
   "metadata": {},
   "source": [
    "The means are the dots and the medians are the lines. The Friday values do seems to be smaller."
   ]
  },
  {
   "cell_type": "markdown",
   "metadata": {},
   "source": [
    "Alright, now let's do some sort of test to see if the mean of total riders is different for Mondays versus Tuesdays versus Wednesday, etc. The Monday mean seems a little small and the Friday mean seems a little small as we saw in the graph. Here are the means as numbers:"
   ]
  },
  {
   "cell_type": "code",
   "execution_count": 64,
   "metadata": {
    "collapsed": false
   },
   "outputs": [
    {
     "data": {
      "text/plain": [
       "[2545633.6, 2626041.8, 2633699.44, 2600615.8, 2468463.56]"
      ]
     },
     "execution_count": 64,
     "metadata": {},
     "output_type": "execute_result"
    }
   ],
   "source": [
    "[nice_data[col].mean() for col in nice_data.columns]"
   ]
  },
  {
   "cell_type": "markdown",
   "metadata": {},
   "source": [
    "The means do seem to be different, but how likely is it that this difference is due to random chance?"
   ]
  },
  {
   "cell_type": "markdown",
   "metadata": {},
   "source": [
    "I can think of at least two different roads to investigate this. The first is this:\n",
    "* Pool all the observations from all groups.\n",
    "* Draw random samples without replacement of the size of the group that you are interested in.\n",
    "* Keep track of how many of the means of the random samples are as different as the mean of the group."
   ]
  },
  {
   "cell_type": "markdown",
   "metadata": {},
   "source": [
    "For these data, this means drawing samples of size 25 from the population of all days of the week and observing the distribution of means of the samples and comparing them to the means for each day of the week."
   ]
  },
  {
   "cell_type": "code",
   "execution_count": 65,
   "metadata": {
    "collapsed": true
   },
   "outputs": [],
   "source": [
    "import numpy as np"
   ]
  },
  {
   "cell_type": "code",
   "execution_count": 66,
   "metadata": {
    "collapsed": true
   },
   "outputs": [],
   "source": [
    "def draw_samples(population,size,iters):\n",
    "    means = []\n",
    "    for _ in xrange(iters):\n",
    "        mean = np.mean(np.random.choice(population,size,replace=False))\n",
    "        means.append(mean)\n",
    "    return means"
   ]
  },
  {
   "cell_type": "code",
   "execution_count": 67,
   "metadata": {
    "collapsed": false
   },
   "outputs": [],
   "source": [
    "means = draw_samples(np.ravel(nice_data),25,10000)"
   ]
  },
  {
   "cell_type": "code",
   "execution_count": 68,
   "metadata": {
    "collapsed": false
   },
   "outputs": [
    {
     "data": {
      "image/png": "[encoded data removed]",
      "text/plain": [
       "<matplotlib.figure.Figure at 0x11439f350>"
      ]
     },
     "metadata": {},
     "output_type": "display_data"
    }
   ],
   "source": [
    "fig, ax = plt.subplots(figsize=(12,7))\n",
    "plt.boxplot(means,whis=[.5, 99.5]);\n",
    "plt.xticks([.25,.5,.75,1.33,1.66], ['Mon','Tues','Wed','Thur','Fri']);\n",
    "plt.scatter([.25,.5,.75,1.33,1.66],[nice_data[col].mean() for col in nice_data.columns])\n",
    "ax.set_xlim([0, 2]);\n",
    "plt.ylabel('Mean of Groups/Mean of Samples',fontsize=14);\n",
    "plt.xlabel('Day of the Week/Samples',fontsize=12);\n",
    "plt.title('Mean Total Traffic for each Day of Week AND Means of 10,000 Samples of size 25 from All Days');"
   ]
  },
  {
   "cell_type": "markdown",
   "metadata": {},
   "source": [
    "I've set the whiskers of the boxplot to enclose 99% of the means. As you can see, the mean of the Fridays seems to fall just barely inside this threshold. This indicates it's very unlikely that the mean that presents in the Friday group could occur in a distribution of means of random samples drawn from the whole population of weekdays. Not impossible, but unlikely. Exactly how likely you may ask?"
   ]
  },
  {
   "cell_type": "code",
   "execution_count": 69,
   "metadata": {
    "collapsed": false
   },
   "outputs": [
    {
     "name": "stdout",
     "output_type": "stream",
     "text": [
      "0.0058\n"
     ]
    }
   ],
   "source": [
    "liklihood = float(sum(1 for mean in means if mean<nice_data[4].mean())) / len(means)\n",
    "print liklihood"
   ]
  },
  {
   "cell_type": "markdown",
   "metadata": {},
   "source": [
    "Now, let's do this one other way. Instead of a pool then sample method, I'll use resampling. Since I am investigating the difference in each day of the week's ridership to the average weekday, I'll use this strategy:\n",
    "\n",
    "* Subtract the week's average ridership from the observed riderships of each weekday.\n",
    "* Resample each of the 25 groups with replacement.\n",
    "* Observe the distributions."
   ]
  },
  {
   "cell_type": "code",
   "execution_count": 70,
   "metadata": {
    "collapsed": true
   },
   "outputs": [],
   "source": [
    "minus_the_mean = pd.DataFrame(nice_data.values - np.array([[mean] for mean in nice_data.mean(1)]))"
   ]
  },
  {
   "cell_type": "code",
   "execution_count": 71,
   "metadata": {
    "collapsed": false
   },
   "outputs": [
    {
     "data": {
      "text/html": [
       "<div>\n",
       "<table border=\"1\" class=\"dataframe\">\n",
       "  <thead>\n",
       "    <tr style=\"text-align: right;\">\n",
       "      <th></th>\n",
       "      <th>0</th>\n",
       "      <th>1</th>\n",
       "      <th>2</th>\n",
       "      <th>3</th>\n",
       "      <th>4</th>\n",
       "    </tr>\n",
       "  </thead>\n",
       "  <tbody>\n",
       "    <tr>\n",
       "      <th>0</th>\n",
       "      <td>-40863.4</td>\n",
       "      <td>15083.6</td>\n",
       "      <td>99782.6</td>\n",
       "      <td>60968.6</td>\n",
       "      <td>-134971.4</td>\n",
       "    </tr>\n",
       "    <tr>\n",
       "      <th>1</th>\n",
       "      <td>-33486.8</td>\n",
       "      <td>59861.2</td>\n",
       "      <td>100159.2</td>\n",
       "      <td>12345.2</td>\n",
       "      <td>-138878.8</td>\n",
       "    </tr>\n",
       "    <tr>\n",
       "      <th>2</th>\n",
       "      <td>-44070.4</td>\n",
       "      <td>52748.6</td>\n",
       "      <td>58078.6</td>\n",
       "      <td>38004.6</td>\n",
       "      <td>-104761.4</td>\n",
       "    </tr>\n",
       "    <tr>\n",
       "      <th>3</th>\n",
       "      <td>-322658.4</td>\n",
       "      <td>-182046.4</td>\n",
       "      <td>218074.6</td>\n",
       "      <td>220031.6</td>\n",
       "      <td>66598.6</td>\n",
       "    </tr>\n",
       "    <tr>\n",
       "      <th>4</th>\n",
       "      <td>195377.8</td>\n",
       "      <td>112487.8</td>\n",
       "      <td>-318063.2</td>\n",
       "      <td>-3268.2</td>\n",
       "      <td>13465.8</td>\n",
       "    </tr>\n",
       "  </tbody>\n",
       "</table>\n",
       "</div>"
      ],
      "text/plain": [
       "          0         1         2         3         4\n",
       "0  -40863.4   15083.6   99782.6   60968.6 -134971.4\n",
       "1  -33486.8   59861.2  100159.2   12345.2 -138878.8\n",
       "2  -44070.4   52748.6   58078.6   38004.6 -104761.4\n",
       "3 -322658.4 -182046.4  218074.6  220031.6   66598.6\n",
       "4  195377.8  112487.8 -318063.2   -3268.2   13465.8"
      ]
     },
     "execution_count": 71,
     "metadata": {},
     "output_type": "execute_result"
    }
   ],
   "source": [
    "minus_the_mean.head()"
   ]
  },
  {
   "cell_type": "code",
   "execution_count": 72,
   "metadata": {
    "collapsed": true
   },
   "outputs": [],
   "source": [
    "def resample(sample,iters):\n",
    "    means = []\n",
    "    for _ in xrange(iters):\n",
    "        mean = np.mean(np.random.choice(sample,len(sample),replace=True))\n",
    "        means.append(mean)\n",
    "    return means"
   ]
  },
  {
   "cell_type": "code",
   "execution_count": 73,
   "metadata": {
    "collapsed": false
   },
   "outputs": [
    {
     "data": {
      "image/png": "[encoded data removed]",
      "text/plain": [
       "<matplotlib.figure.Figure at 0x11417c390>"
      ]
     },
     "metadata": {},
     "output_type": "display_data"
    }
   ],
   "source": [
    "fig, ax = plt.subplots(figsize=(12,7));\n",
    "plt.boxplot([resample(minus_the_mean[col],10000) for col in range(5)],whis=[.5, 99.5]);\n",
    "plt.axhline(0,ls='--',color='black')\n",
    "plt.xticks(range(1,6), ['Mon','Tues','Wed','Thur','Fri']);\n",
    "plt.ylabel(\"Observed Ridership Minus Week's Average Ridership\",fontsize=14);\n",
    "plt.xlabel('Day of the Week',fontsize=12);\n",
    "plt.title('Resampled Distribution of Means of Observed Ridership Minus Average Ridership Across Week');"
   ]
  },
  {
   "cell_type": "markdown",
   "metadata": {},
   "source": [
    "From this method, we can say definitively that the number of Riders on Fridays is different than the average number of riders during the week as a whole. There is an indication that Monday's might be below average but we can't say for sure."
   ]
  }
 ],
 "metadata": {
  "kernelspec": {
   "display_name": "Python 2",
   "language": "python",
   "name": "python2"
  },
  "language_info": {
   "codemirror_mode": {
    "name": "ipython",
    "version": 2
   },
   "file_extension": ".py",
   "mimetype": "text/x-python",
   "name": "python",
   "nbconvert_exporter": "python",
   "pygments_lexer": "ipython2",
   "version": "2.7.11"
  }
 },
 "nbformat": 4,
 "nbformat_minor": 0
}
